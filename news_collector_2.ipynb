{
 "cells": [
  {
   "cell_type": "code",
   "execution_count": 1,
   "metadata": {},
   "outputs": [
    {
     "name": "stdout",
     "output_type": "stream",
     "text": [
      "importing Jupyter notebook from news_classes.ipynb\n"
     ]
    }
   ],
   "source": [
    "import newspaper\n",
    "import os\n",
    "import random\n",
    "import pickle\n",
    "from datetime import datetime\n",
    "import import_ipynb\n",
    "from news_classes import *"
   ]
  },
  {
   "cell_type": "code",
   "execution_count": 2,
   "metadata": {},
   "outputs": [
    {
     "name": "stdout",
     "output_type": "stream",
     "text": [
      "building...http://english.kalerkantho.com/               \r"
     ]
    }
   ],
   "source": [
    "urls=[]\n",
    "urls.append(\"https://www.thedailystar.net/\")\n",
    "urls.append(\"http://www.observerbd.com/\")\n",
    "urls.append(\"https://bdnews24.com/\")\n",
    "urls.append(\"https://en.prothomalo.com/\")\n",
    "urls.append(\"https://www.clickittefaq.com/\")\n",
    "urls.append(\"http://english.kalerkantho.com/\")\n",
    "\n",
    "papers_today = []\n",
    "for url in urls:\n",
    "    papers_today.append(newspaper.build(url,  memoize_articles=False))\n",
    "    print(\"building...\"+url+\"               \", end=\"\\r\")\n",
    "\n",
    "cwd=os.getcwd()+'/'\n",
    "now = datetime.now()\n",
    "paper_path = \"news_\"+str(now.day)+\"_\"+str(now.month)+\"_\"+str(now.year)+\".pkl\""
   ]
  },
  {
   "cell_type": "code",
   "execution_count": 3,
   "metadata": {
    "collapsed": true
   },
   "outputs": [],
   "source": [
    "myPaper = customizedPaper()"
   ]
  },
  {
   "cell_type": "code",
   "execution_count": 4,
   "metadata": {},
   "outputs": [
    {
     "name": "stdout",
     "output_type": "stream",
     "text": [
      "You must `download()` an article first!\n",
      "You must `download()` an article first!\n",
      "You must `download()` an article first!\n",
      "You must `download()` an article first!\n",
      "You must `download()` an article first!\n",
      "You must `download()` an article first!\n",
      "You must `download()` an article first!\n",
      "You must `download()` an article first!\n",
      "You must `download()` an article first!\n",
      "You must `download()` an article first!\n",
      "You must `download()` an article first!\n",
      "You must `download()` an article first!\n",
      "You must `download()` an article first!\n",
      "You must `download()` an article first!\n",
      "You must `download()` an article first!\n",
      "You must `download()` an article first!\n",
      "You must `download()` an article first!\n",
      "You must `download()` an article first!\n",
      "You must `download()` an article first!\n",
      "You must `download()` an article first!\n",
      "You must `download()` an article first!\n",
      "You must `download()` an article first!\n",
      "You must `download()` an article first!\n",
      "You must `download()` an article first!\n",
      "You must `download()` an article first!\n",
      "You must `download()` an article first!\n",
      "You must `download()` an article first!\n",
      "You must `download()` an article first!\n",
      "You must `download()` an article first!\n",
      "You must `download()` an article first!\n",
      "You must `download()` an article first!\n",
      "You must `download()` an article first!\n",
      "You must `download()` an article first!\n",
      "You must `download()` an article first!\n",
      "You must `download()` an article first!\n",
      "You must `download()` an article first!\n",
      "You must `download()` an article first!\n",
      "You must `download()` an article first!\n",
      "You must `download()` an article first!\n",
      "Article `download()` failed with 503 Server Error: Service Temporarily Unavailable for url: https://www.clickittefaq.com/14-party-alliance-to-hold-countrywide-rallies-in-oct/ on URL https://www.clickittefaq.com/14-party-alliance-to-hold-countrywide-rallies-in-oct/\n",
      "Article `download()` failed with 503 Server Error: Service Unavailable for url: https://www.clickittefaq.com/swedish-academy-postpones-nobel-literature-prize-leaving-blank-page-for-2018/ on URL https://www.clickittefaq.com/swedish-academy-postpones-nobel-literature-prize-leaving-blank-page-for-2018/\n",
      "Article `download()` failed with 503 Server Error: Service Unavailable for url: https://www.clickittefaq.com/kangana-ranaut-says-manikarnikas-teaser-to-be-out-on-oct-2/ on URL https://www.clickittefaq.com/kangana-ranaut-says-manikarnikas-teaser-to-be-out-on-oct-2/\n",
      "Article `download()` failed with 503 Server Error: Service Unavailable for url: https://www.clickittefaq.com/kevin-spacey-sued-for-allegedly-sexually-assaulting-anonymous-masseur/ on URL https://www.clickittefaq.com/kevin-spacey-sued-for-allegedly-sexually-assaulting-anonymous-masseur/\n",
      "Article `download()` failed with 503 Server Error: Service Unavailable for url: https://www.clickittefaq.com/saudi-arabia-allies-denounce-united-nations-resolution-on-yemen/ on URL https://www.clickittefaq.com/saudi-arabia-allies-denounce-united-nations-resolution-on-yemen/\n",
      "Article `download()` failed with 503 Server Error: Service Unavailable for url: https://www.clickittefaq.com/ekattor-tv-employee-dies-as-bus-hits-motorcycle-in-dhaka/ on URL https://www.clickittefaq.com/ekattor-tv-employee-dies-as-bus-hits-motorcycle-in-dhaka/\n",
      "Article `download()` failed with 503 Server Error: Service Unavailable for url: https://www.clickittefaq.com/padma-bridge-to-be-renamed-sheikh-hasina-padma-bridge-quader/ on URL https://www.clickittefaq.com/padma-bridge-to-be-renamed-sheikh-hasina-padma-bridge-quader/\n",
      "Article `download()` failed with 503 Server Error: Service Unavailable for url: https://www.clickittefaq.com/interim-govt-may-be-formed-with-js-representatives-pm/ on URL https://www.clickittefaq.com/interim-govt-may-be-formed-with-js-representatives-pm/\n",
      "Article `download()` failed with 503 Server Error: Service Unavailable for url: https://www.clickittefaq.com/bd-un-sign-document-to-address-sexual-violence-against-rohingya-refugees/ on URL https://www.clickittefaq.com/bd-un-sign-document-to-address-sexual-violence-against-rohingya-refugees/\n",
      "Article `download()` failed with 503 Server Error: Service Unavailable for url: https://www.clickittefaq.com/facebook-security-breach-exposes-accounts-of-50-million-users/ on URL https://www.clickittefaq.com/facebook-security-breach-exposes-accounts-of-50-million-users/\n",
      "Article `download()` failed with 503 Server Error: Service Unavailable for url: https://www.clickittefaq.com/iranian-revolutionary-guards-warns-saudi-arabia-uae-to-respect-its-red-lines/ on URL https://www.clickittefaq.com/iranian-revolutionary-guards-warns-saudi-arabia-uae-to-respect-its-red-lines/\n",
      "Article `download()` failed with 503 Server Error: Service Unavailable for url: https://www.clickittefaq.com/first-man-ryan-gosling-and-damien-chazelle-on-faking-the-moon-landing/ on URL https://www.clickittefaq.com/first-man-ryan-gosling-and-damien-chazelle-on-faking-the-moon-landing/\n",
      "Article `download()` failed with 503 Server Error: Service Unavailable for url: https://www.clickittefaq.com/2018-arctic-summertime-sea-ice-minimum-sixth-lowest-on-record/ on URL https://www.clickittefaq.com/2018-arctic-summertime-sea-ice-minimum-sixth-lowest-on-record/\n",
      "Article `download()` failed with 503 Server Error: Service Unavailable for url: https://www.clickittefaq.com/can-spirited-bangladesh-overcome-full-strength-india/ on URL https://www.clickittefaq.com/can-spirited-bangladesh-overcome-full-strength-india/\n",
      "Article `download()` failed with 503 Server Error: Service Unavailable for url: https://www.clickittefaq.com/those-responsible-for-myanmar-crimes-could-face-genocide-charges-us/ on URL https://www.clickittefaq.com/those-responsible-for-myanmar-crimes-could-face-genocide-charges-us/\n",
      "Article `download()` failed with 503 Server Error: Service Unavailable for url: https://www.clickittefaq.com/flying-news-humanitarian-media-counter-rohingya-refugee-rumors/ on URL https://www.clickittefaq.com/flying-news-humanitarian-media-counter-rohingya-refugee-rumors/\n",
      "Article `download()` failed with 503 Server Error: Service Unavailable for url: https://www.clickittefaq.com/google-celebrates-20th-birthday-with-a-video-doodle/ on URL https://www.clickittefaq.com/google-celebrates-20th-birthday-with-a-video-doodle/\n",
      "Article `download()` failed with 503 Server Error: Service Unavailable for url: https://www.clickittefaq.com/lawmakers-urge-us-to-call-myanmars-rohingya-campaign-genocide/ on URL https://www.clickittefaq.com/lawmakers-urge-us-to-call-myanmars-rohingya-campaign-genocide/\n",
      "Article `download()` failed with 503 Server Error: Service Unavailable for url: https://www.clickittefaq.com/trump-says-he-wants-two-state-solution-for-middle-east-conflict/ on URL https://www.clickittefaq.com/trump-says-he-wants-two-state-solution-for-middle-east-conflict/\n",
      "Article `download()` failed with 503 Server Error: Service Unavailable for url: https://www.clickittefaq.com/the-run-up-to-elections-in-bangladesh/ on URL https://www.clickittefaq.com/the-run-up-to-elections-in-bangladesh/\n",
      "Article `download()` failed with 503 Server Error: Service Unavailable for url: https://www.clickittefaq.com/bnp-given-permission-to-hold-rally-at-suhrawardy-udyan-on-sunday/ on URL https://www.clickittefaq.com/bnp-given-permission-to-hold-rally-at-suhrawardy-udyan-on-sunday/\n",
      "Article `download()` failed with 503 Server Error: Service Unavailable for url: https://www.clickittefaq.com/3-held-with-arms-in-faridpur/ on URL https://www.clickittefaq.com/3-held-with-arms-in-faridpur/\n",
      "Article `download()` failed with 503 Server Error: Service Unavailable for url: https://www.clickittefaq.com/quader-tells-bnp-to-be-patient-for-rally-permit/ on URL https://www.clickittefaq.com/quader-tells-bnp-to-be-patient-for-rally-permit/\n",
      "Article `download()` failed with 503 Server Error: Service Unavailable for url: https://www.clickittefaq.com/bnp-claims-getting-threatened-by-cec/ on URL https://www.clickittefaq.com/bnp-claims-getting-threatened-by-cec/\n",
      "Article `download()` failed with 503 Server Error: Service Unavailable for url: https://www.clickittefaq.com/al-not-to-hold-counter-program-against-bnp-quader/ on URL https://www.clickittefaq.com/al-not-to-hold-counter-program-against-bnp-quader/\n",
      "Article `download()` failed with 503 Server Error: Service Unavailable for url: https://www.clickittefaq.com/bnp-now-seeks-permission-to-hold-rally-on-sunday/ on URL https://www.clickittefaq.com/bnp-now-seeks-permission-to-hold-rally-on-sunday/\n"
     ]
    },
    {
     "name": "stdout",
     "output_type": "stream",
     "text": [
      "Article `download()` failed with 503 Server Error: Service Unavailable for url: https://www.clickittefaq.com/uncertainty-over-al-rally-in-dhaka/ on URL https://www.clickittefaq.com/uncertainty-over-al-rally-in-dhaka/\n",
      "Article `download()` failed with 503 Server Error: Service Unavailable for url: https://www.clickittefaq.com/world-court-palestine-files-complaint-over-us-embassy-in-jerusalem/ on URL https://www.clickittefaq.com/world-court-palestine-files-complaint-over-us-embassy-in-jerusalem/\n",
      "Article `download()` failed with 503 Server Error: Service Unavailable for url: https://www.clickittefaq.com/google-ceo-will-testify-before-us-house-on-bias-accusations/ on URL https://www.clickittefaq.com/google-ceo-will-testify-before-us-house-on-bias-accusations/\n",
      "Article `download()` failed with 503 Server Error: Service Unavailable for url: https://www.clickittefaq.com/us-blames-iran-as-it-shuts-iraq-consulate/ on URL https://www.clickittefaq.com/us-blames-iran-as-it-shuts-iraq-consulate/\n",
      "Article `download()` failed with 503 Server Error: Service Unavailable for url: https://www.clickittefaq.com/cristiano-ronaldos-lawyers-deny-rape-allegation/ on URL https://www.clickittefaq.com/cristiano-ronaldos-lawyers-deny-rape-allegation/\n",
      "Article `download()` failed with 503 Server Error: Service Unavailable for url: https://www.clickittefaq.com/australian-banking-inquiry-misconduct-driven-by-greed/ on URL https://www.clickittefaq.com/australian-banking-inquiry-misconduct-driven-by-greed/\n",
      "Article `download()` failed with 503 Server Error: Service Unavailable for url: https://www.clickittefaq.com/india-will-continue-to-buy-irans-oil-iranian-foreign-minister/ on URL https://www.clickittefaq.com/india-will-continue-to-buy-irans-oil-iranian-foreign-minister/\n",
      "Article `download()` failed with 503 Server Error: Service Unavailable for url: https://www.clickittefaq.com/uber-cabify-drivers-strike-in-madrid-to-protest-against-planned-law-changes/ on URL https://www.clickittefaq.com/uber-cabify-drivers-strike-in-madrid-to-protest-against-planned-law-changes/\n",
      "Article `download()` failed with 503 Server Error: Service Unavailable for url: https://www.clickittefaq.com/google-could-pay-9-billion-to-remain-apples-default-search-engine/ on URL https://www.clickittefaq.com/google-could-pay-9-billion-to-remain-apples-default-search-engine/\n",
      "Article `download()` failed with 503 Server Error: Service Unavailable for url: https://www.clickittefaq.com/philippine-inventor-aims-to-cut-travel-times-with-passenger-drone/ on URL https://www.clickittefaq.com/philippine-inventor-aims-to-cut-travel-times-with-passenger-drone/\n",
      "Article `download()` failed with 503 Server Error: Service Unavailable for url: https://www.clickittefaq.com/pollution-threatens-the-future-of-killer-whales/ on URL https://www.clickittefaq.com/pollution-threatens-the-future-of-killer-whales/\n",
      "Article `download()` failed with 503 Server Error: Service Unavailable for url: https://www.clickittefaq.com/the-importance-of-a-healthy-mind/ on URL https://www.clickittefaq.com/the-importance-of-a-healthy-mind/\n",
      "Article `download()` failed with 503 Server Error: Service Unavailable for url: https://www.clickittefaq.com/hasinas-popularity-marks-significant-rise-iri-survey/ on URL https://www.clickittefaq.com/hasinas-popularity-marks-significant-rise-iri-survey/\n",
      "Article `download()` failed with 503 Server Error: Service Unavailable for url: https://www.clickittefaq.com/the-united-states-the-world-and-bangladesh-mourn-senator-mccain/ on URL https://www.clickittefaq.com/the-united-states-the-world-and-bangladesh-mourn-senator-mccain/\n",
      "Article `download()` failed with 503 Server Error: Service Unavailable for url: https://www.clickittefaq.com/nana-patekar-in-process-of-sending-legal-notice-to-tanushree-dutta/ on URL https://www.clickittefaq.com/nana-patekar-in-process-of-sending-legal-notice-to-tanushree-dutta/\n",
      "Article `download()` failed with 503 Server Error: Service Unavailable for url: https://www.clickittefaq.com/sophie-turner-says-final-game-of-thrones-season-will-disappoint-some-fans/ on URL https://www.clickittefaq.com/sophie-turner-says-final-game-of-thrones-season-will-disappoint-some-fans/\n",
      "Article `download()` failed with 503 Server Error: Service Unavailable for url: https://www.clickittefaq.com/new-zealand-pm-brings-baby-to-un-assembly/ on URL https://www.clickittefaq.com/new-zealand-pm-brings-baby-to-un-assembly/\n"
     ]
    }
   ],
   "source": [
    "cnt = 0 \n",
    "for paper in papers_today:\n",
    "    for article in paper.articles: \n",
    "        try:\n",
    "            article.download() \n",
    "            article.parse() \n",
    "\n",
    "            temp_article=paragraph(article.title, article.url, article.text, article.publish_date, paper.brand) \n",
    "            myPaper.addParagraph(temp_article)\n",
    "\n",
    "            cnt+=1\n",
    "            downloaded=round(100*cnt/len(paper_today.articles), 2)\n",
    "\n",
    "            print(article.title)\n",
    "            \n",
    "            print(\"Downloading... \"+str(downloaded)+\"%   \", end=\"\\r\")\n",
    "        except:\n",
    "            None"
   ]
  },
  {
   "cell_type": "code",
   "execution_count": 5,
   "metadata": {
    "collapsed": true
   },
   "outputs": [],
   "source": [
    "with open(paper_path, 'wb') as output:\n",
    "    pickle.dump(myPaper, output, pickle.HIGHEST_PROTOCOL)"
   ]
  },
  {
   "cell_type": "code",
   "execution_count": 6,
   "metadata": {
    "collapsed": true
   },
   "outputs": [],
   "source": [
    "with open(paper_path, 'rb') as input:\n",
    "    tnews = pickle.load(input)"
   ]
  },
  {
   "cell_type": "code",
   "execution_count": 7,
   "metadata": {},
   "outputs": [
    {
     "name": "stdout",
     "output_type": "stream",
     "text": [
      "2919\n"
     ]
    }
   ],
   "source": [
    "cnt=0\n",
    "for mmm in tnews.paragraphs:\n",
    "    if mmm is not None:\n",
    "        cnt=cnt+1\n",
    "print(cnt)"
   ]
  }
 ],
 "metadata": {
  "kernelspec": {
   "display_name": "Python 3",
   "language": "python",
   "name": "python3"
  },
  "language_info": {
   "codemirror_mode": {
    "name": "ipython",
    "version": 3
   },
   "file_extension": ".py",
   "mimetype": "text/x-python",
   "name": "python",
   "nbconvert_exporter": "python",
   "pygments_lexer": "ipython3",
   "version": "3.6.3"
  }
 },
 "nbformat": 4,
 "nbformat_minor": 2
}
