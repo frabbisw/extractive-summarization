{
 "cells": [
  {
   "cell_type": "code",
   "execution_count": 1,
   "metadata": {},
   "outputs": [
    {
     "name": "stdout",
     "output_type": "stream",
     "text": [
      "importing Jupyter notebook from news_classes.ipynb\n"
     ]
    }
   ],
   "source": [
    "import newspaper\n",
    "import os\n",
    "import random\n",
    "import pickle\n",
    "from datetime import datetime\n",
    "import import_ipynb\n",
    "from news_classes import *"
   ]
  },
  {
   "cell_type": "code",
   "execution_count": 2,
   "metadata": {},
   "outputs": [
    {
     "name": "stdout",
     "output_type": "stream",
     "text": [
      "https://www.thedailystar.net/\n",
      "http://www.observerbd.com/\n",
      "https://bdnews24.com/\n",
      "https://en.prothomalo.com/\n",
      "https://www.clickittefaq.com/\n",
      "http://english.kalerkantho.com/\n"
     ]
    }
   ],
   "source": [
    "urls=[]\n",
    "urls.append(\"https://www.thedailystar.net/\")\n",
    "urls.append(\"http://www.observerbd.com/\")\n",
    "urls.append(\"https://bdnews24.com/\")\n",
    "urls.append(\"https://en.prothomalo.com/\")\n",
    "urls.append(\"https://www.clickittefaq.com/\")\n",
    "urls.append(\"http://english.kalerkantho.com/\")\n",
    "\n",
    "papers_today = []\n",
    "for url in urls:\n",
    "    papers_today.append(newspaper.build(url,  memoize_articles=False))\n",
    "    print(url)\n",
    "\n",
    "cwd=os.getcwd()+'/'\n",
    "now = datetime.now()\n",
    "paper_path = \"news_\"+str(now.day)+\"_\"+str(now.month)+\"_\"+str(now.year)+\".pkl\""
   ]
  },
  {
   "cell_type": "code",
   "execution_count": 3,
   "metadata": {
    "collapsed": true
   },
   "outputs": [],
   "source": [
    "myPaper = customizedPaper()"
   ]
  },
  {
   "cell_type": "code",
   "execution_count": 4,
   "metadata": {},
   "outputs": [
    {
     "name": "stdout",
     "output_type": "stream",
     "text": [
      "You must `download()` an article first!\n",
      "You must `download()` an article first!\n",
      "You must `download()` an article first!\n",
      "You must `download()` an article first!\n",
      "Article `download()` failed with 503 Server Error: Service Temporarily Unavailable for url: https://www.clickittefaq.com/keanu-reeves-has-a-role-in-toy-story-4/ on URL https://www.clickittefaq.com/keanu-reeves-has-a-role-in-toy-story-4/\n",
      "Article `download()` failed with 503 Server Error: Service Unavailable for url: https://www.clickittefaq.com/farmer-killed-in-satkhira-road-accident/ on URL https://www.clickittefaq.com/farmer-killed-in-satkhira-road-accident/\n",
      "Article `download()` failed with 503 Server Error: Service Unavailable for url: https://www.clickittefaq.com/real-madrid-say-ramos-has-never-broken-anti-doping-rules/ on URL https://www.clickittefaq.com/real-madrid-say-ramos-has-never-broken-anti-doping-rules/\n",
      "Article `download()` failed with 503 Server Error: Service Unavailable for url: https://www.clickittefaq.com/no-arrest-without-ecs-directives-cec/ on URL https://www.clickittefaq.com/no-arrest-without-ecs-directives-cec/\n",
      "Article `download()` failed with 503 Server Error: Service Unavailable for url: https://www.clickittefaq.com/phd-student-goes-missing-before-flight/ on URL https://www.clickittefaq.com/phd-student-goes-missing-before-flight/\n",
      "Article `download()` failed with 503 Server Error: Service Unavailable for url: https://www.clickittefaq.com/nganj-steel-factory-explosion-two-victims-die/ on URL https://www.clickittefaq.com/nganj-steel-factory-explosion-two-victims-die/\n",
      "Article `download()` failed with 503 Server Error: Service Unavailable for url: https://www.clickittefaq.com/newlywed-ranveer-returns-to-work-after-wedding-with-deepika/ on URL https://www.clickittefaq.com/newlywed-ranveer-returns-to-work-after-wedding-with-deepika/\n",
      "Article `download()` failed with 503 Server Error: Service Unavailable for url: https://www.clickittefaq.com/shakib-becomes-the-quickest-to-3000-runs-200-wickets-double/ on URL https://www.clickittefaq.com/shakib-becomes-the-quickest-to-3000-runs-200-wickets-double/\n",
      "Article `download()` failed with 503 Server Error: Service Unavailable for url: https://www.clickittefaq.com/bangladesh-win-first-test-against-wi-by-64-runs/ on URL https://www.clickittefaq.com/bangladesh-win-first-test-against-wi-by-64-runs/\n",
      "Article `download()` failed with 503 Server Error: Service Unavailable for url: https://www.clickittefaq.com/taiwan-votes-on-same-sex-marriage/ on URL https://www.clickittefaq.com/taiwan-votes-on-same-sex-marriage/\n",
      "Article `download()` failed with 503 Server Error: Service Unavailable for url: https://www.clickittefaq.com/saudi-crown-prince-goes-on-tour-of-arab-states-amid-khashoggi-storm/ on URL https://www.clickittefaq.com/saudi-crown-prince-goes-on-tour-of-arab-states-amid-khashoggi-storm/\n",
      "Article `download()` failed with 503 Server Error: Service Unavailable for url: https://www.clickittefaq.com/opposition-threatens-to-sue-if-evm-used-in-elections/ on URL https://www.clickittefaq.com/opposition-threatens-to-sue-if-evm-used-in-elections/\n",
      "Article `download()` failed with 503 Server Error: Service Unavailable for url: https://www.clickittefaq.com/bangladesh-surrender-advantage-after-mominul-ton/ on URL https://www.clickittefaq.com/bangladesh-surrender-advantage-after-mominul-ton/\n",
      "Article `download()` failed with 503 Server Error: Service Unavailable for url: https://www.clickittefaq.com/bnp-submits-no-lists-of-cases-filed-after-polls-schedule-cec/ on URL https://www.clickittefaq.com/bnp-submits-no-lists-of-cases-filed-after-polls-schedule-cec/\n",
      "Article `download()` failed with 503 Server Error: Service Unavailable for url: https://www.clickittefaq.com/chief-justice-rebukes-trumps-obama-taunt/ on URL https://www.clickittefaq.com/chief-justice-rebukes-trumps-obama-taunt/\n",
      "Article `download()` failed with 503 Server Error: Service Unavailable for url: https://www.clickittefaq.com/additional-route-endorsement-service-to-be-launched-at-ivacs/ on URL https://www.clickittefaq.com/additional-route-endorsement-service-to-be-launched-at-ivacs/\n",
      "Article `download()` failed with 503 Server Error: Service Unavailable for url: https://www.clickittefaq.com/deadliest-year-for-dengue-fever-in-bangladesh/ on URL https://www.clickittefaq.com/deadliest-year-for-dengue-fever-in-bangladesh/\n",
      "Article `download()` failed with 503 Server Error: Service Unavailable for url: https://www.clickittefaq.com/govt-spots-fake-report-bangabandhu-satellite-went-missing/ on URL https://www.clickittefaq.com/govt-spots-fake-report-bangabandhu-satellite-went-missing/\n",
      "Article `download()` failed with 503 Server Error: Service Unavailable for url: https://www.clickittefaq.com/us-embassy-in-dhaka-to-remain-closed-thursday/ on URL https://www.clickittefaq.com/us-embassy-in-dhaka-to-remain-closed-thursday/\n",
      "Article `download()` failed with 503 Server Error: Service Unavailable for url: https://www.clickittefaq.com/cyclone-gaja-india-girl-segregated-during-period-dies/ on URL https://www.clickittefaq.com/cyclone-gaja-india-girl-segregated-during-period-dies/\n",
      "Article `download()` failed with 503 Server Error: Service Unavailable for url: https://www.clickittefaq.com/chevron-official-killed-in-habiganj-road-crash/ on URL https://www.clickittefaq.com/chevron-official-killed-in-habiganj-road-crash/\n",
      "Article `download()` failed with 503 Server Error: Service Unavailable for url: https://www.clickittefaq.com/pm-listens-to-youth-aspirations-speaks-on-future-plans/ on URL https://www.clickittefaq.com/pm-listens-to-youth-aspirations-speaks-on-future-plans/\n",
      "Article `download()` failed with 503 Server Error: Service Unavailable for url: https://www.clickittefaq.com/national-polls-quader-predicts-easy-victory-for-al/ on URL https://www.clickittefaq.com/national-polls-quader-predicts-easy-victory-for-al/\n",
      "Article `download()` failed with 503 Server Error: Service Unavailable for url: https://www.clickittefaq.com/al-urges-ec-not-to-remove-92-officials/ on URL https://www.clickittefaq.com/al-urges-ec-not-to-remove-92-officials/\n",
      "Article `download()` failed with 503 Server Error: Service Unavailable for url: https://www.clickittefaq.com/ec-police-jointly-trying-to-destroy-bnp-rizvi/ on URL https://www.clickittefaq.com/ec-police-jointly-trying-to-destroy-bnp-rizvi/\n",
      "Article `download()` failed with 503 Server Error: Service Unavailable for url: https://www.clickittefaq.com/scale-of-evm-use-to-be-decided-saturday-ec/ on URL https://www.clickittefaq.com/scale-of-evm-use-to-be-decided-saturday-ec/\n",
      "Article `download()` failed with 503 Server Error: Service Unavailable for url: https://www.clickittefaq.com/db-nab-bnp-leader-milon-in-ctg/ on URL https://www.clickittefaq.com/db-nab-bnp-leader-milon-in-ctg/\n",
      "Article `download()` failed with 503 Server Error: Service Unavailable for url: https://www.clickittefaq.com/dire-warning-on-us-climate-change-impacts/ on URL https://www.clickittefaq.com/dire-warning-on-us-climate-change-impacts/\n",
      "Article `download()` failed with 503 Server Error: Service Unavailable for url: https://www.clickittefaq.com/25-killed-35-injured-in-explosion-in-pakistan/ on URL https://www.clickittefaq.com/25-killed-35-injured-in-explosion-in-pakistan/\n",
      "Article `download()` failed with 503 Server Error: Service Unavailable for url: https://www.clickittefaq.com/uk-pledges-50m-to-help-end-fgm-in-africa/ on URL https://www.clickittefaq.com/uk-pledges-50m-to-help-end-fgm-in-africa/\n",
      "Article `download()` failed with 503 Server Error: Service Unavailable for url: https://www.clickittefaq.com/neymar-kylian-mbappe-could-return-for-paris-st-germain-v-liverpool/ on URL https://www.clickittefaq.com/neymar-kylian-mbappe-could-return-for-paris-st-germain-v-liverpool/\n",
      "Article `download()` failed with 503 Server Error: Service Unavailable for url: https://www.clickittefaq.com/sadio-manes-liverpool-deal-a-statement-jurgen-klopp/ on URL https://www.clickittefaq.com/sadio-manes-liverpool-deal-a-statement-jurgen-klopp/\n",
      "Article `download()` failed with 503 Server Error: Service Unavailable for url: https://www.clickittefaq.com/abahani-complete-federation-cup-title-hattrick/ on URL https://www.clickittefaq.com/abahani-complete-federation-cup-title-hattrick/\n"
     ]
    },
    {
     "name": "stdout",
     "output_type": "stream",
     "text": [
      "Article `download()` failed with 503 Server Error: Service Unavailable for url: https://www.clickittefaq.com/tesla-cuts-china-car-prices-to-absorb-hit-from-trade-war-tariffs-2/ on URL https://www.clickittefaq.com/tesla-cuts-china-car-prices-to-absorb-hit-from-trade-war-tariffs-2/\n",
      "Article `download()` failed with 503 Server Error: Service Unavailable for url: https://www.clickittefaq.com/dg-china-shopping-sites-pull-products-in-ad-backlash/ on URL https://www.clickittefaq.com/dg-china-shopping-sites-pull-products-in-ad-backlash/\n",
      "Article `download()` failed with 503 Server Error: Service Unavailable for url: https://www.clickittefaq.com/two-more-leather-park-if-al-returns-to-power-pm/ on URL https://www.clickittefaq.com/two-more-leather-park-if-al-returns-to-power-pm/\n",
      "Article `download()` failed with 503 Server Error: Service Unavailable for url: https://www.clickittefaq.com/novasar-uk-radar-satellite-returns-first-images/ on URL https://www.clickittefaq.com/novasar-uk-radar-satellite-returns-first-images/\n",
      "Article `download()` failed with 503 Server Error: Service Unavailable for url: https://www.clickittefaq.com/spotifys-palestinian-launch-puts-local-artists-on-the-map/ on URL https://www.clickittefaq.com/spotifys-palestinian-launch-puts-local-artists-on-the-map/\n",
      "Article `download()` failed with 503 Server Error: Service Unavailable for url: https://www.clickittefaq.com/u-s-asks-allies-to-shun-huawei-equipment-wsj-reports-sector-stocks-fall/ on URL https://www.clickittefaq.com/u-s-asks-allies-to-shun-huawei-equipment-wsj-reports-sector-stocks-fall/\n",
      "Article `download()` failed with 503 Server Error: Service Unavailable for url: https://www.clickittefaq.com/supercharge-me-bangladesh-taps-ge-tech-to-power-decade-long-economic-growth/ on URL https://www.clickittefaq.com/supercharge-me-bangladesh-taps-ge-tech-to-power-decade-long-economic-growth/\n",
      "Article `download()` failed with 503 Server Error: Service Unavailable for url: https://www.clickittefaq.com/why-has-the-decline-of-maternal-deaths-stalled-in-bangladesh/ on URL https://www.clickittefaq.com/why-has-the-decline-of-maternal-deaths-stalled-in-bangladesh/\n",
      "Article `download()` failed with 503 Server Error: Service Unavailable for url: https://www.clickittefaq.com/the-importance-of-a-healthy-mind/ on URL https://www.clickittefaq.com/the-importance-of-a-healthy-mind/\n",
      "Article `download()` failed with 503 Server Error: Service Unavailable for url: https://www.clickittefaq.com/janhvi-kapoor-recites-a-self-written-poem-at-iffi-for-sridevi/ on URL https://www.clickittefaq.com/janhvi-kapoor-recites-a-self-written-poem-at-iffi-for-sridevi/\n",
      "Article `download()` failed with 503 Server Error: Service Unavailable for url: https://www.clickittefaq.com/a-night-of-firsts-for-american-women-in-us-politics/ on URL https://www.clickittefaq.com/a-night-of-firsts-for-american-women-in-us-politics/\n",
      "Article `download()` failed with 503 Server Error: Service Unavailable for url: https://www.clickittefaq.com/bengal-girls-become-saff-u-18-champs/ on URL https://www.clickittefaq.com/bengal-girls-become-saff-u-18-champs/\n"
     ]
    }
   ],
   "source": [
    "cnt = 0 \n",
    "for paper in papers_today:\n",
    "    for article in paper.articles: \n",
    "        try:\n",
    "            article.download() \n",
    "            article.parse() \n",
    "\n",
    "            temp_article=paragraph(article.title, article.url, article.text, article.publish_date, paper.brand) \n",
    "            myPaper.addParagraph(temp_article)\n",
    "\n",
    "            cnt+=1\n",
    "            downloaded=round(100*cnt/len(paper_today.articles), 2)\n",
    "            \n",
    "            print(\"Downloading... \"+str(downloaded)+\"%   \", end=\"\\r\")\n",
    "        except:\n",
    "            None"
   ]
  },
  {
   "cell_type": "code",
   "execution_count": 5,
   "metadata": {
    "collapsed": true
   },
   "outputs": [],
   "source": [
    "with open(paper_path, 'wb') as output:\n",
    "    pickle.dump(myPaper, output, pickle.HIGHEST_PROTOCOL)"
   ]
  },
  {
   "cell_type": "code",
   "execution_count": 6,
   "metadata": {
    "collapsed": true
   },
   "outputs": [],
   "source": [
    "with open(paper_path, 'rb') as input:\n",
    "    tnews = pickle.load(input)"
   ]
  },
  {
   "cell_type": "code",
   "execution_count": 7,
   "metadata": {},
   "outputs": [
    {
     "name": "stdout",
     "output_type": "stream",
     "text": [
      "2973\n"
     ]
    }
   ],
   "source": [
    "cnt=0\n",
    "for mmm in tnews.paragraphs:\n",
    "    if mmm is not None:\n",
    "        cnt=cnt+1\n",
    "print(cnt)"
   ]
  }
 ],
 "metadata": {
  "kernelspec": {
   "display_name": "Python 3",
   "language": "python",
   "name": "python3"
  },
  "language_info": {
   "codemirror_mode": {
    "name": "ipython",
    "version": 3
   },
   "file_extension": ".py",
   "mimetype": "text/x-python",
   "name": "python",
   "nbconvert_exporter": "python",
   "pygments_lexer": "ipython3",
   "version": "3.6.3"
  }
 },
 "nbformat": 4,
 "nbformat_minor": 2
}
