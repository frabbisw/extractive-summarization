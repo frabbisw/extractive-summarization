{
 "cells": [
  {
   "cell_type": "code",
   "execution_count": 20,
   "metadata": {},
   "outputs": [],
   "source": [
    "import import_ipynb\n",
    "from news_classes import *\n",
    "import math\n",
    "from textblob import TextBlob as tb\n",
    "import os\n",
    "import pickle\n",
    "from collections import Counter\n",
    "from textblob import TextBlob as tb"
   ]
  },
  {
   "cell_type": "code",
   "execution_count": 2,
   "metadata": {},
   "outputs": [],
   "source": [
    "idf_path='idf_30_9_2018.pkl'\n",
    "with open(idf_path, 'rb') as input:\n",
    "    idfblob = pickle.load(input)"
   ]
  },
  {
   "cell_type": "code",
   "execution_count": 3,
   "metadata": {},
   "outputs": [],
   "source": [
    "def idf(word):\n",
    "    return math.log(idfblob.size() / (1 + idfblob.getIdf(word)))"
   ]
  },
  {
   "cell_type": "code",
   "execution_count": 4,
   "metadata": {},
   "outputs": [],
   "source": [
    "def sent_cosine(sentence1, sentence2):\n",
    "    count_sent1=Counter(sentence1.words)\n",
    "    count_sent2=Counter(sentence2.words)\n",
    "    \n",
    "    up=0\n",
    "    downright=0\n",
    "    downleft=0\n",
    "    \n",
    "    words=set()\n",
    "    for word in count_sent1.keys():\n",
    "        words.add(word)\n",
    "    for word in count_sent2.keys():\n",
    "        words.add(word)\n",
    "    \n",
    "    for word in words:\n",
    "        cnt1=count_sent1.get(word)\n",
    "        cnt2=count_sent2.get(word)\n",
    "        if cnt1 is None:\n",
    "            cnt1=0            \n",
    "        elif cnt2 is None:\n",
    "            cnt2=0\n",
    "                \n",
    "        up+=cnt1*cnt2*idf(word)*idf(word)\n",
    "        downright+=cnt1*idf(word)*cnt1*idf(word)\n",
    "        downleft+=cnt2*idf(word)*cnt2*idf(word)\n",
    "        \n",
    "    try:\n",
    "        return up/(math.sqrt(downleft)*math.sqrt(downright))\n",
    "    except:\n",
    "        return 0"
   ]
  },
  {
   "cell_type": "code",
   "execution_count": 33,
   "metadata": {},
   "outputs": [],
   "source": [
    "dist_matrix = np.zeros(10)"
   ]
  },
  {
   "cell_type": "code",
   "execution_count": 39,
   "metadata": {},
   "outputs": [],
   "source": [
    "#w,h=len(sentences), len(sentences)\n",
    "def sent_to_matrix(sentences):\n",
    "    w,h=len(sentences), len(sentences)\n",
    "    dist_matrix = [[0 for x in range(w)] for y in range(h)]\n",
    "    for i in range(w):\n",
    "        for j in range(h):\n",
    "            dist = sent_cosine(sentences[i],sentences[j])\n",
    "            dist_matrix[i][j]=dist\n",
    "            dist_matrix[j][i]=dist\n",
    "    return dist_matrix"
   ]
  },
  {
   "cell_type": "code",
   "execution_count": 44,
   "metadata": {},
   "outputs": [],
   "source": [
    "def summarize(para, threshold):\n",
    "    sentences=tb(para).sentences\n",
    "    lower_sentences=[]\n",
    "    for sentence in sentences:\n",
    "        lower_sentences.append(sentence.lower())\n",
    "    matrix = sent_to_matrix(lower_sentences)"
   ]
  },
  {
   "cell_type": "code",
   "execution_count": 40,
   "metadata": {},
   "outputs": [],
   "source": [
    "blob=tb(\"The BNP chief challenged the legality of a trial court decision to continue the proceedings in her absence, and prayed to issue a rule on Anti-Corruption Commission (ACC) and the government to explain why the lower court's decision should not be scrapped. Trial cannot continue if the accused is sick, her lawyer Barrister Kaiser Kamal said, adding, that setting up a court in old Dhaka jail is unlawful and unconstitutional. Meanwhile, a Dhaka court yesterday fixed October 24 for framing charges against Khaleda in cases filed for undermining the national flag and observing “fake birthday” on August 15. \")"
   ]
  },
  {
   "cell_type": "code",
   "execution_count": 42,
   "metadata": {},
   "outputs": [
    {
     "data": {
      "text/plain": [
       "[[1.0000000000000002, 0.04726398312965018, 0.026244866107659193],\n",
       " [0.04726398312965018, 1.0, 0.13609576756178088],\n",
       " [0.026244866107659193, 0.13609576756178088, 0.9999999999999998]]"
      ]
     },
     "execution_count": 42,
     "metadata": {},
     "output_type": "execute_result"
    }
   ],
   "source": [
    "matrix = sent_to_matrix(blob.sentences)"
   ]
  },
  {
   "cell_type": "code",
   "execution_count": 43,
   "metadata": {},
   "outputs": [
    {
     "name": "stdout",
     "output_type": "stream",
     "text": [
      "[[1.0000000000000002, 0.04726398312965018, 0.026244866107659193], [0.04726398312965018, 1.0, 0.13609576756178088], [0.026244866107659193, 0.13609576756178088, 0.9999999999999998]]\n"
     ]
    }
   ],
   "source": []
  },
  {
   "cell_type": "code",
   "execution_count": 6,
   "metadata": {},
   "outputs": [
    {
     "data": {
      "text/plain": [
       "0.04726398312965018"
      ]
     },
     "execution_count": 6,
     "metadata": {},
     "output_type": "execute_result"
    }
   ],
   "source": [
    "sent_cosine(blob.sentences[0], blob.sentences[1])"
   ]
  },
  {
   "cell_type": "code",
   "execution_count": null,
   "metadata": {},
   "outputs": [],
   "source": []
  }
 ],
 "metadata": {
  "kernelspec": {
   "display_name": "Python 3",
   "language": "python",
   "name": "python3"
  },
  "language_info": {
   "codemirror_mode": {
    "name": "ipython",
    "version": 3
   },
   "file_extension": ".py",
   "mimetype": "text/x-python",
   "name": "python",
   "nbconvert_exporter": "python",
   "pygments_lexer": "ipython3",
   "version": "3.5.2"
  }
 },
 "nbformat": 4,
 "nbformat_minor": 2
}
