{
 "cells": [
  {
   "cell_type": "code",
   "execution_count": 33,
   "metadata": {},
   "outputs": [],
   "source": [
    "import import_ipynb\n",
    "from news_classes import *\n",
    "import math\n",
    "from textblob import TextBlob as tb\n",
    "import os\n",
    "import pickle\n",
    "from collections import Counter\n",
    "from textblob import TextBlob as tb"
   ]
  },
  {
   "cell_type": "code",
   "execution_count": 31,
   "metadata": {},
   "outputs": [],
   "source": [
    "idf_path='idf_30_9_2018.pkl'\n",
    "with open(idf_path, 'rb') as input:\n",
    "    idfblob = pickle.load(input)"
   ]
  },
  {
   "cell_type": "code",
   "execution_count": 34,
   "metadata": {},
   "outputs": [],
   "source": [
    "def idf(word):\n",
    "    return math.log(idfblob.size() / (1 + idfblob.getIdf(word)))"
   ]
  },
  {
   "cell_type": "code",
   "execution_count": 18,
   "metadata": {},
   "outputs": [],
   "source": [
    "def sent_cosine(sentence1, sentence2):\n",
    "    count_sent1=Counter(sentence1.words)\n",
    "    count_sent2=Counter(sentence2.words)\n",
    "    \n",
    "    up=0\n",
    "    downright=0\n",
    "    downleft=0\n",
    "    \n",
    "    words=set()\n",
    "    for word in count_sent1.keys():\n",
    "        words.add(word)\n",
    "    for word in count_sent2.keys():\n",
    "        words.add(word)\n",
    "    \n",
    "    for word in words:\n",
    "        cnt1=count_sent1.get(word)\n",
    "        cnt2=count_sent2.get(word)\n",
    "        if cnt1 is None:\n",
    "            cnt1=0            \n",
    "        elif cnt2 is None:\n",
    "            cnt2=0\n",
    "                \n",
    "        up+=cnt1*cnt2*idf(word)*idf(word)\n",
    "        downright+=cnt1*idf(word)*cnt1*idf(word)\n",
    "        downleft+=cnt2*idf(word)*cnt2*idf(word)\n",
    "        \n",
    "    try:\n",
    "        return up/(math.sqrt(downleft)*math.sqrt(downright))\n",
    "    except:\n",
    "        return 0"
   ]
  },
  {
   "cell_type": "code",
   "execution_count": 19,
   "metadata": {},
   "outputs": [],
   "source": [
    "#w,h=len(sentences), len(sentences)\n",
    "def sent_to_matrix(sentences):\n",
    "    w,h=len(sentences), len(sentences)\n",
    "    dist_matrix = [[0 for x in range(w)] for y in range(h)]\n",
    "    for i in range(w):\n",
    "        for j in range(h):\n",
    "            dist = sent_cosine(sentences[i],sentences[j])\n",
    "            dist_matrix[i][j]=dist\n",
    "            dist_matrix[j][i]=dist\n",
    "    return dist_matrix"
   ]
  },
  {
   "cell_type": "code",
   "execution_count": 20,
   "metadata": {},
   "outputs": [],
   "source": [
    "def summarize(para, threshold):\n",
    "    sentences=tb(para).sentences\n",
    "    lower_sentences=[]\n",
    "    for sentence in sentences:\n",
    "        lower_sentences.append(sentence.lower())\n",
    "    matrix = sent_to_matrix(lower_sentences)\n",
    "    return matrix"
   ]
  },
  {
   "cell_type": "code",
   "execution_count": 25,
   "metadata": {},
   "outputs": [],
   "source": [
    "para = \"Education helps in the mental and intellectual nourishment and growth of a person. Without education an individual cannot progress intellectually, and cannot develop skills and capacities to work. Education fosters the enlightenment, empowerment and emancipation of society. Without education a society will be socially, economically and politically backward. Education is what serves to make a nation strong, capable, powerful and resilient, and take it forward. Education is, therefore, very important for every individual person, and as a whole for every society and nation. Hence, education must be available to all the children and youth of a nation without any discrimination.\""
   ]
  },
  {
   "cell_type": "code",
   "execution_count": 26,
   "metadata": {},
   "outputs": [],
   "source": [
    "matrix = summarize(para, 0)"
   ]
  },
  {
   "cell_type": "code",
   "execution_count": 30,
   "metadata": {},
   "outputs": [
    {
     "name": "stdout",
     "output_type": "stream",
     "text": [
      "1.00  0.06  0.06  0.06  0.07  0.15  0.07  \n",
      "0.06  1.00  0.05  0.09  0.06  0.17  0.10  \n",
      "0.06  0.05  1.00  0.11  0.06  0.13  0.07  \n",
      "0.06  0.09  0.11  1.00  0.06  0.15  0.11  \n",
      "0.07  0.06  0.06  0.06  1.00  0.16  0.15  \n",
      "0.15  0.17  0.13  0.15  0.16  1.00  0.17  \n",
      "0.07  0.10  0.07  0.11  0.15  0.17  1.00  \n"
     ]
    }
   ],
   "source": [
    "for row in matrix:\n",
    "    for cell in row:\n",
    "        print(\"%.2f \" %cell, end=\" \")\n",
    "    print()"
   ]
  },
  {
   "cell_type": "code",
   "execution_count": null,
   "metadata": {},
   "outputs": [],
   "source": []
  }
 ],
 "metadata": {
  "kernelspec": {
   "display_name": "Python 3",
   "language": "python",
   "name": "python3"
  },
  "language_info": {
   "codemirror_mode": {
    "name": "ipython",
    "version": 3
   },
   "file_extension": ".py",
   "mimetype": "text/x-python",
   "name": "python",
   "nbconvert_exporter": "python",
   "pygments_lexer": "ipython3",
   "version": "3.5.2"
  }
 },
 "nbformat": 4,
 "nbformat_minor": 2
}
