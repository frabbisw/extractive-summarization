{
 "cells": [
  {
   "cell_type": "code",
   "execution_count": 1,
   "metadata": {},
   "outputs": [
    {
     "name": "stderr",
     "output_type": "stream",
     "text": [
      "/usr/lib/python3.5/importlib/_bootstrap.py:222: RuntimeWarning: numpy.dtype size changed, may indicate binary incompatibility. Expected 96, got 88\n",
      "  return f(*args, **kwds)\n",
      "/usr/lib/python3.5/importlib/_bootstrap.py:222: RuntimeWarning: numpy.dtype size changed, may indicate binary incompatibility. Expected 96, got 88\n",
      "  return f(*args, **kwds)\n",
      "/usr/lib/python3.5/importlib/_bootstrap.py:222: RuntimeWarning: numpy.dtype size changed, may indicate binary incompatibility. Expected 96, got 88\n",
      "  return f(*args, **kwds)\n",
      "/usr/lib/python3.5/importlib/_bootstrap.py:222: RuntimeWarning: numpy.dtype size changed, may indicate binary incompatibility. Expected 96, got 88\n",
      "  return f(*args, **kwds)\n"
     ]
    }
   ],
   "source": [
    "from sklearn.cluster import KMeans\n",
    "from news_classes import *\n",
    "import math\n",
    "from textblob import TextBlob as tb\n",
    "import os\n",
    "import pickle\n",
    "import numpy as np"
   ]
  },
  {
   "cell_type": "code",
   "execution_count": 2,
   "metadata": {},
   "outputs": [],
   "source": [
    "idf_path='bdnews_idfblob_19_18.pkl'\n",
    "with open(idf_path, 'rb') as input:\n",
    "    idfblob = pickle.load(input)"
   ]
  },
  {
   "cell_type": "code",
   "execution_count": 3,
   "metadata": {},
   "outputs": [],
   "source": [
    "def tf(word, blob):\n",
    "    return blob.words.count(word) / len(blob.words)\n",
    "\n",
    "def idf(word):\n",
    "    return math.log(idfblob.size() / (1 + idfblob.getIdf(word)))\n",
    "\n",
    "def tfidf(word, blob):\n",
    "    return tf(word, blob) * idf(word)\n",
    "\n",
    "def sentence_tfidf(sent_blob, para_blob):    \n",
    "    tot=0;\n",
    "    for word in sent_blob.words:\n",
    "        tot+=tfidf(word,para_blob)\n",
    "    \n",
    "    return tot/len(sent_blob.words)"
   ]
  },
  {
   "cell_type": "code",
   "execution_count": 4,
   "metadata": {},
   "outputs": [],
   "source": [
    "def get_sent_idfs(para):\n",
    "    sentences=tb(para).lower().sentences\n",
    "        \n",
    "    sent_tfidf=[]\n",
    "    for sentence in sentences:\n",
    "        sent_tfidf.append(sentence_tfidf(sentence, tb(para).lower()))\n",
    "\n",
    "    return sent_tfidf"
   ]
  },
  {
   "cell_type": "code",
   "execution_count": 67,
   "metadata": {},
   "outputs": [],
   "source": [
    "def summarize(para):\n",
    "    sent_idfs=get_sent_idfs(para)\n",
    "    \n",
    "    X1 = np.array(sent_idfs)\n",
    "    X1=X1.reshape(-1,1)\n",
    "    X2 = np.zeros((len(X1),1))\n",
    "    X = np.hstack((X1,X2))\n",
    "    \n",
    "    cluster_size=len(X)//2\n",
    "    kmeans = KMeans(n_clusters=cluster_size, random_state=0).fit(X)\n",
    "    \n",
    "    counter={}\n",
    "    n=len(X)\n",
    "    for i in range(cluster_size):\n",
    "        counter[i]=0\n",
    "    for i in range(n):\n",
    "        counter[kmeans.labels_[i]]+=1\n",
    "    mx=0\n",
    "    for i in range(cluster_size):\n",
    "        if counter[i]>counter[mx]:\n",
    "            mx=i\n",
    "            \n",
    "    sentences=tb(para).sentences\n",
    "    summarized_para=\"\"\n",
    "    for i in range(len(sentences)):\n",
    "        if kmeans.labels_[i] == mx:\n",
    "            summarized_para+=(str(sentences[i])+\" \")\n",
    "    \n",
    "    return summarized_para"
   ]
  },
  {
   "cell_type": "code",
   "execution_count": 68,
   "metadata": {},
   "outputs": [
    {
     "name": "stdout",
     "output_type": "stream",
     "text": [
      "An investigation committee had been formed when the allegation had surfaced and the committee submitted its report to the disciplinary body, Proctor AKM Golam Rabbani told bdnews24.com on Monday. The others got six-month suspension each. \n"
     ]
    }
   ],
   "source": [
    "para=\"An investigation committee had been formed when the allegation had surfaced and the committee submitted its report to the disciplinary body, Proctor AKM Golam Rabbani told bdnews24.com on Monday. The Syndicate decided to suspend the seven students following recommendations by the disciplinary board in a meeting on July 10, the proctor said. “The decisions have been conveyed to the related departments and halls,” he added. Khairun Nisa of 2014-15 session has been suspended for one year. The others got six-month suspension each. They are Umme Habiba Tanzila of 2014-15 session, Minhazul Abedin, Samira Mahzabin and ‘Fatima’ of 2015-16, and Abdullah Hil Baki and Aditi Sarker of 2016-17. \"\n",
    "print(summarize(para))"
   ]
  },
  {
   "cell_type": "code",
   "execution_count": null,
   "metadata": {},
   "outputs": [],
   "source": []
  }
 ],
 "metadata": {
  "kernelspec": {
   "display_name": "Python 3",
   "language": "python",
   "name": "python3"
  },
  "language_info": {
   "codemirror_mode": {
    "name": "ipython",
    "version": 3
   },
   "file_extension": ".py",
   "mimetype": "text/x-python",
   "name": "python",
   "nbconvert_exporter": "python",
   "pygments_lexer": "ipython3",
   "version": "3.5.2"
  }
 },
 "nbformat": 4,
 "nbformat_minor": 2
}
