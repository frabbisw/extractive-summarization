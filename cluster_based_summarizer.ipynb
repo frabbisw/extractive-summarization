{
 "cells": [
  {
   "cell_type": "code",
   "execution_count": 100,
   "metadata": {
    "collapsed": true
   },
   "outputs": [],
   "source": [
    "from sklearn.cluster import KMeans\n",
    "import import_ipynb\n",
    "from news_classes import *\n",
    "import math\n",
    "from textblob import TextBlob as tb\n",
    "import os\n",
    "import pickle\n",
    "import numpy as np"
   ]
  },
  {
   "cell_type": "code",
   "execution_count": 101,
   "metadata": {
    "collapsed": true
   },
   "outputs": [],
   "source": [
    "idf_path='bdnews_idfblob_25_18.pkl'\n",
    "with open(idf_path, 'rb') as input:\n",
    "    idfblob = pickle.load(input)"
   ]
  },
  {
   "cell_type": "code",
   "execution_count": 102,
   "metadata": {
    "collapsed": true
   },
   "outputs": [],
   "source": [
    "def tf(word, lower_sentences):\n",
    "    ret=0\n",
    "    tot=1\n",
    "    for sentence in lower_sentences:\n",
    "        ret+=(sentence.words.count(word))\n",
    "        tot+=len(sentence.words)\n",
    "    return ret / tot"
   ]
  },
  {
   "cell_type": "code",
   "execution_count": 103,
   "metadata": {
    "collapsed": true
   },
   "outputs": [],
   "source": [
    "def idf(word):\n",
    "    return math.log(idfblob.size() / (1 + idfblob.getIdf(word)))"
   ]
  },
  {
   "cell_type": "code",
   "execution_count": 104,
   "metadata": {
    "collapsed": true
   },
   "outputs": [],
   "source": [
    "def tfidf(word, lower_sentences):\n",
    "    return tf(word, lower_sentences) * idf(word)"
   ]
  },
  {
   "cell_type": "code",
   "execution_count": 105,
   "metadata": {},
   "outputs": [],
   "source": [
    "def sentence_tfidf(sentence, lower_sentences):\n",
    "    tot=0;\n",
    "    for word in sentence.words:\n",
    "        tot+=tfidf(word,lower_sentences)\n",
    "    try:\n",
    "        return tot/len(sentence.words)\n",
    "    except:\n",
    "        return 0"
   ]
  },
  {
   "cell_type": "code",
   "execution_count": 106,
   "metadata": {
    "collapsed": true
   },
   "outputs": [],
   "source": [
    "def get_sent_idfs(lower_sentences):\n",
    "        \n",
    "    sent_tfidf=[]\n",
    "    for sentence in lower_sentences:\n",
    "        sent_tfidf.append(sentence_tfidf(sentence, lower_sentences))\n",
    "\n",
    "    return sent_tfidf"
   ]
  },
  {
   "cell_type": "code",
   "execution_count": 107,
   "metadata": {
    "collapsed": true
   },
   "outputs": [],
   "source": [
    "def summarize(para):\n",
    "    sentences=tb(para).sentences\n",
    "    \n",
    "    if len(sentences) is 0:\n",
    "        return 'nothing';\n",
    "    \n",
    "    lower_sentences=[]\n",
    "    for sentence in sentences:\n",
    "        lower_sentences.append(sentence.lower())\n",
    "        \n",
    "    sent_idfs=get_sent_idfs(lower_sentences)\n",
    "    \n",
    "    X1 = np.array(sent_idfs)\n",
    "    X1=X1.reshape(-1,1)\n",
    "    X2 = np.zeros((len(X1),1))\n",
    "    X = np.hstack((X1,X2))\n",
    "    \n",
    "    cluster_size=max(1, len(X)//2)\n",
    "    kmeans = KMeans(n_clusters=cluster_size, random_state=0).fit(X)\n",
    "    \n",
    "    counter={}\n",
    "    n=len(X)\n",
    "    for i in range(cluster_size):\n",
    "        counter[i]=0\n",
    "    for i in range(n):\n",
    "        counter[kmeans.labels_[i]]+=1\n",
    "    mx=0\n",
    "    for i in range(cluster_size):\n",
    "        if counter[i]>counter[mx]:\n",
    "            mx=i\n",
    "            \n",
    "    summarized_para=\"\"\n",
    "    for i in range(len(sentences)):\n",
    "        if kmeans.labels_[i] == mx:\n",
    "            summarized_para+=(str(sentences[i])+\" \")\n",
    "    \n",
    "    return summarized_para"
   ]
  }
 ],
 "metadata": {
  "kernelspec": {
   "display_name": "Python 3",
   "language": "python",
   "name": "python3"
  },
  "language_info": {
   "codemirror_mode": {
    "name": "ipython",
    "version": 3
   },
   "file_extension": ".py",
   "mimetype": "text/x-python",
   "name": "python",
   "nbconvert_exporter": "python",
   "pygments_lexer": "ipython3",
   "version": "3.5.2"
  }
 },
 "nbformat": 4,
 "nbformat_minor": 2
}
