{
 "cells": [
  {
   "cell_type": "code",
   "execution_count": 2,
   "metadata": {},
   "outputs": [
    {
     "name": "stdout",
     "output_type": "stream",
     "text": [
      "importing Jupyter notebook from news_classes.ipynb\n"
     ]
    }
   ],
   "source": [
    "import math\n",
    "from textblob import TextBlob as tb\n",
    "import os\n",
    "import pickle\n",
    "import import_ipynb\n",
    "from news_classes import *\n",
    "from datetime import datetime\n",
    "from tqdm import tqdm as tq"
   ]
  },
  {
   "cell_type": "code",
   "execution_count": 3,
   "metadata": {},
   "outputs": [],
   "source": [
    "cwd=os.getcwd()+'/'\n",
    "now = datetime.now()\n",
    "#paper_path = \"news_\"+str(now.day)+\"_\"+str(now.month)+\"_\"+str(now.year)+\".pkl\"\n",
    "#idf_path = \"idf_\"+str(now.day)+\"_\"+str(now.month)+\"_\"+str(now.year)+\".pkl\"\n",
    "paper_path = \"news_today.pkl\"\n",
    "idf_path = \"idf_path.pkl\""
   ]
  },
  {
   "cell_type": "code",
   "execution_count": 4,
   "metadata": {
    "collapsed": true
   },
   "outputs": [],
   "source": [
    "with open(paper_path, 'rb') as input:\n",
    "    allnews = pickle.load(input)"
   ]
  },
  {
   "cell_type": "code",
   "execution_count": 5,
   "metadata": {},
   "outputs": [
    {
     "name": "stderr",
     "output_type": "stream",
     "text": [
      "100%|██████████| 2906/2906 [00:00<00:00, 10591.01it/s]\n"
     ]
    }
   ],
   "source": [
    "word_bob_list = []\n",
    "for news in tq(allnews.paragraphs):\n",
    "    word_bob_list.append(tb(news.body).lower())"
   ]
  },
  {
   "cell_type": "code",
   "execution_count": 6,
   "metadata": {},
   "outputs": [
    {
     "name": "stderr",
     "output_type": "stream",
     "text": [
      "100%|██████████| 2906/2906 [00:13<00:00, 209.33it/s]\n"
     ]
    }
   ],
   "source": [
    "word_set = set()\n",
    "for blob in tq(word_bob_list):\n",
    "    for word in blob.words:\n",
    "        word_set.add(str(word))"
   ]
  },
  {
   "cell_type": "code",
   "execution_count": 7,
   "metadata": {},
   "outputs": [
    {
     "name": "stderr",
     "output_type": "stream",
     "text": [
      "100%|██████████| 58171/58171 [22:42<00:00, 42.69it/s]\n"
     ]
    }
   ],
   "source": [
    "idf_count={}\n",
    "for word in tq(word_set):\n",
    "    for blob in word_bob_list:\n",
    "        if(word in blob.words):\n",
    "            if(word in idf_count.keys()):\n",
    "                idf_count[word]+=1\n",
    "            else:\n",
    "                idf_count[word]=1"
   ]
  },
  {
   "cell_type": "code",
   "execution_count": 8,
   "metadata": {
    "collapsed": true
   },
   "outputs": [],
   "source": [
    "idfblob = idfBlob(idf_count, len(allnews.paragraphs))\n",
    "\n",
    "with open(idf_path, 'wb') as output:\n",
    "    pickle.dump(idfblob, output, pickle.HIGHEST_PROTOCOL)"
   ]
  }
 ],
 "metadata": {
  "kernelspec": {
   "display_name": "Python 3",
   "language": "python",
   "name": "python3"
  },
  "language_info": {
   "codemirror_mode": {
    "name": "ipython",
    "version": 3
   },
   "file_extension": ".py",
   "mimetype": "text/x-python",
   "name": "python",
   "nbconvert_exporter": "python",
   "pygments_lexer": "ipython3",
   "version": "3.6.3"
  }
 },
 "nbformat": 4,
 "nbformat_minor": 2
}
