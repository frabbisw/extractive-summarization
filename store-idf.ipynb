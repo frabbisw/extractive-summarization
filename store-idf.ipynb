{
 "cells": [
  {
   "cell_type": "code",
   "execution_count": 7,
   "metadata": {},
   "outputs": [],
   "source": [
    "import math\n",
    "from textblob import TextBlob as tb\n",
    "import os\n",
    "import pickle\n",
    "from news_classes import paragraph\n",
    "from news_classes import customizedPaper\n",
    "from news_classes import idfBlob"
   ]
  },
  {
   "cell_type": "code",
   "execution_count": 8,
   "metadata": {},
   "outputs": [],
   "source": [
    "cwd=os.getcwd()+'/'\n",
    "paper_path='bdnews_news_19_18.pkl'\n",
    "idf_path='bdnews_idfblob_19_18.pkl'"
   ]
  },
  {
   "cell_type": "code",
   "execution_count": 9,
   "metadata": {},
   "outputs": [],
   "source": [
    "with open(paper_path, 'rb') as input:\n",
    "    allnews = pickle.load(input)"
   ]
  },
  {
   "cell_type": "code",
   "execution_count": 10,
   "metadata": {},
   "outputs": [],
   "source": [
    "word_bob_list = []\n",
    "for news in allnews.paragraphs:\n",
    "    word_bob_list.append(tb(news.body).lower())"
   ]
  },
  {
   "cell_type": "code",
   "execution_count": 11,
   "metadata": {},
   "outputs": [],
   "source": [
    "word_set = set()\n",
    "for blob in word_bob_list:\n",
    "    for word in blob.words:\n",
    "        word_set.add(str(word))"
   ]
  },
  {
   "cell_type": "code",
   "execution_count": 12,
   "metadata": {},
   "outputs": [
    {
     "name": "stdout",
     "output_type": "stream",
     "text": [
      "Calculating... 100.0%\r"
     ]
    }
   ],
   "source": [
    "idf_count={}\n",
    "cnt=0\n",
    "for word in word_set:\n",
    "    cnt+=1\n",
    "    print(\"Calculating... \"+str(round(100*(cnt/len(word_set)),2))+\"%\", end=\"\\r\")\n",
    "    for blob in word_bob_list:\n",
    "        if(word in blob.words):\n",
    "            if(word in idf_count.keys()):\n",
    "                idf_count[word]+=1\n",
    "            else:\n",
    "                idf_count[word]=1"
   ]
  },
  {
   "cell_type": "code",
   "execution_count": 13,
   "metadata": {},
   "outputs": [],
   "source": [
    "idfblob = idfBlob(idf_count, len(allnews.paragraphs))\n",
    "\n",
    "with open(idf_path, 'wb') as output:\n",
    "    pickle.dump(idfblob, output, pickle.HIGHEST_PROTOCOL)"
   ]
  }
 ],
 "metadata": {
  "kernelspec": {
   "display_name": "Python 3",
   "language": "python",
   "name": "python3"
  },
  "language_info": {
   "codemirror_mode": {
    "name": "ipython",
    "version": 3
   },
   "file_extension": ".py",
   "mimetype": "text/x-python",
   "name": "python",
   "nbconvert_exporter": "python",
   "pygments_lexer": "ipython3",
   "version": "3.5.2"
  }
 },
 "nbformat": 4,
 "nbformat_minor": 2
}
