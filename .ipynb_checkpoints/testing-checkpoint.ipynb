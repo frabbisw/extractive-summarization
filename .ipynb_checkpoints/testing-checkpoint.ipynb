{
 "cells": [
  {
   "cell_type": "code",
   "execution_count": 6,
   "metadata": {},
   "outputs": [],
   "source": [
    "import import_ipynb\n",
    "from cluster_based_summarizer import summarize\n",
    "from textblob import TextBlob as tb"
   ]
  },
  {
   "cell_type": "code",
   "execution_count": 8,
   "metadata": {},
   "outputs": [],
   "source": [
    "para=\"genjamRepresentatives from the Chhatra League, Chhatra Dal and various other student organisations gathered at the university’s old Senate Hall at 11:30amon Sunday. The university administration took the initiative to hold the meeting after a case was filed last Thursday over ignoring the DUCSU elections. Central Chhatra League President Rezwanul Haque Chowdhury Shovon and General Secretary Golam Rabbani and Dhaka University branch President Sanjit Chandra Das and General Secretary Hossein Saddam went to the vice-chancellor’s office from Modhu’s Canteen around 11:25am. Central Chhatra Dal President Rajeeb Ahsan and Dhaka University Branch General Secretary Bashar Siddique came to the vice chancellor’s office a few minutes later. Representatives from the three largest leftist student organisations – the Chhatra Union, Chhatra Foundation and Chhatra Front – also attended the meeting. Dhaka University Vice Chancellor Akhtaruzzaman led the administration’s delegation, which also included Pro Vice Chancellor (Education) Prof Nasreen Ahmad, Pro Vice Chancellor (Administration) Muhammad Samad, Treasurer Prof Kamal Uddin, Proctor Prof AKM Golam Rabbani. Activist from 13 ‘active’ student organisations were invited to the event, an assistant proctor told bdnews24.com. DUCSU was formed a year after Dhaka University was established in 1921. DUCSU and other Dhaka University student leaders were at the forefront of the Language Movement, the Education Movement, the 1969 coup, and the Independence Movement. Since independence, Dhaka University students have also played a significant role in protests for democracy and against tyranny. Though DUCSU elections are to be held every year, there have only been six since independence. The last election was held on Jun 6, 1990. Though efforts were made several times, no election has been organised since then. On Jan 17 of this year, the High Court settled a six-year-old rule on the issue, ordering DUCSU elections to be held within six months. Petitioners’ lawyer Manzil Morshed sent a legal notice to the Dhaka University administration on Sept 4 after there was no visible progress on the issue after seven months. After he received no answer, he brought allegations of negligence against the university’s vice chancellor and administration to the High Court on Wednesday. \"\n",
    "summarize(para)"
   ]
  },
  {
   "cell_type": "code",
   "execution_count": null,
   "metadata": {},
   "outputs": [],
   "source": []
  }
 ],
 "metadata": {
  "kernelspec": {
   "display_name": "Python 3",
   "language": "python",
   "name": "python3"
  },
  "language_info": {
   "codemirror_mode": {
    "name": "ipython",
    "version": 3
   },
   "file_extension": ".py",
   "mimetype": "text/x-python",
   "name": "python",
   "nbconvert_exporter": "python",
   "pygments_lexer": "ipython3",
   "version": "3.5.2"
  }
 },
 "nbformat": 4,
 "nbformat_minor": 2
}
