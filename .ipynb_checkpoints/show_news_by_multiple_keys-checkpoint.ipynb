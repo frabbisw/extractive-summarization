{
 "cells": [
  {
   "cell_type": "code",
   "execution_count": 32,
   "metadata": {
    "collapsed": true
   },
   "outputs": [],
   "source": [
    "import math\n",
    "from textblob import TextBlob as tb\n",
    "import newspaper\n",
    "import os\n",
    "import random\n",
    "import pickle\n",
    "import import_ipynb\n",
    "#from cluster_based_summarizer import summarize\n",
    "from lexrank_summarizer import summarize\n",
    "from news_classes import customizedPaper\n",
    "from news_classes import paragraph"
   ]
  },
  {
   "cell_type": "code",
   "execution_count": 33,
   "metadata": {
    "collapsed": true
   },
   "outputs": [],
   "source": [
    "from werkzeug.wrappers import Request, Response\n",
    "from flask import Flask\n",
    "from flask import render_template\n",
    "from flask import request"
   ]
  },
  {
   "cell_type": "code",
   "execution_count": 34,
   "metadata": {
    "collapsed": true
   },
   "outputs": [],
   "source": [
    "cwd=os.getcwd()+'/'\n",
    "news_path='news_today.pkl'\n",
    "\n",
    "with open(news_path, 'rb') as input:\n",
    "    allnews = pickle.load(input)"
   ]
  },
  {
   "cell_type": "code",
   "execution_count": 35,
   "metadata": {
    "collapsed": true
   },
   "outputs": [],
   "source": [
    "def getSummarizedFromList(para_list):\n",
    "    summ_list=[]\n",
    "    for paragraph in para_list:\n",
    "        obj={'title':paragraph.title, 'url':paragraph.url, 'text':summarize(paragraph.body, 5), 'date':paragraph.date, 'brand':paragraph.brand}\n",
    "        summ_list.append(obj)    \n",
    "        \n",
    "    return summ_list"
   ]
  },
  {
   "cell_type": "code",
   "execution_count": 36,
   "metadata": {
    "collapsed": true
   },
   "outputs": [],
   "source": [
    "def getMultiDocSummaryFromList(para_list):\n",
    "    blob_news=\"\"\n",
    "    for paragraph in para_list:\n",
    "        blob_news+=paragraph.body\n",
    "    \n",
    "    return summarize(blob_news, 10)"
   ]
  },
  {
   "cell_type": "code",
   "execution_count": 37,
   "metadata": {
    "collapsed": true
   },
   "outputs": [],
   "source": [
    "def searchNews(searched_key):\n",
    "    key_words=searched_key.split()\n",
    " \n",
    "    para_list=[]\n",
    "    \n",
    "    for paragraph in allnews.paragraphs:\n",
    "        matched_count=0\n",
    "        for word in key_words:\n",
    "            word=word.lower()\n",
    "            if paragraph.title is not None and paragraph.body is not None:\n",
    "                if word in paragraph.title.lower():\n",
    "                    matched_count+=1\n",
    "        if matched_count>0 and paragraph.date is not None:\n",
    "            paragraph.setCounts(matched_count)\n",
    "            para_list.append(paragraph)\n",
    "    return para_list"
   ]
  },
  {
   "cell_type": "code",
   "execution_count": 38,
   "metadata": {
    "collapsed": true
   },
   "outputs": [],
   "source": [
    "def sortNews(para_list):\n",
    "    para_list.sort(key=lambda item:(item.cnt, item.date.year, item.date.month, item.date.day), reverse=True)\n",
    "    \n",
    "    return para_list"
   ]
  },
  {
   "cell_type": "code",
   "execution_count": 39,
   "metadata": {
    "collapsed": true
   },
   "outputs": [],
   "source": [
    "def getNewsFromKey(searched_key):\n",
    "    para_list = searchNews(searched_key)\n",
    "    para_list = sortNews(para_list)\n",
    "\n",
    "    return para_list"
   ]
  },
  {
   "cell_type": "code",
   "execution_count": 40,
   "metadata": {},
   "outputs": [
    {
     "data": {
      "text/plain": [
       "79"
      ]
     },
     "execution_count": 40,
     "metadata": {},
     "output_type": "execute_result"
    }
   ],
   "source": [
    "para_list = getNewsFromKey(\"dhaka university\")\n",
    "len(para_list)"
   ]
  },
  {
   "cell_type": "code",
   "execution_count": 41,
   "metadata": {
    "collapsed": true
   },
   "outputs": [],
   "source": [
    "list_of_news=[]\n",
    "searched_word=\"\"\n",
    "selected_item=\"\"\n",
    "total_page=0\n",
    "content_per_page=5"
   ]
  },
  {
   "cell_type": "code",
   "execution_count": 42,
   "metadata": {
    "collapsed": true
   },
   "outputs": [],
   "source": [
    "app = Flask(__name__)"
   ]
  },
  {
   "cell_type": "code",
   "execution_count": 43,
   "metadata": {
    "collapsed": true
   },
   "outputs": [],
   "source": [
    "@app.route('/show_result', methods=['GET', 'POST'])\n",
    "def show_result():\n",
    "    global searched_word\n",
    "    searched_word = request.form['news_keyword']\n",
    "    global selected_item\n",
    "    selected_item = request.form.get('item')\n",
    "    \n",
    "    print(searched_word,\" \",selected_item)\n",
    "    \n",
    "    global list_of_news\n",
    "    list_of_news=getNewsFromKey(searched_word)\n",
    "\n",
    "    for i in list_of_news:\n",
    "        print(i.cnt, end=\" \")\n",
    "    \n",
    "    global total_page\n",
    "    total_page=math.ceil(len(list_of_news)/content_per_page)\n",
    "    \n",
    "    list_ten=[]\n",
    "    for i in range(min(len(list_of_news), content_per_page)):\n",
    "        list_ten.append(list_of_news[i])\n",
    "    \n",
    "    if selected_item == \"single\":\n",
    "        rendered = render_template('ani_show_news.html', news_list=getSummarizedFromList(list_ten), number_of_pages=total_page, keyword=searched_word)\n",
    "    else:\n",
    "        rendered = render_template('ani_show_multi_news.html', multi_news=getMultiDocSummaryFromList(list_ten))\n",
    "    \n",
    "    return rendered"
   ]
  },
  {
   "cell_type": "code",
   "execution_count": 44,
   "metadata": {
    "collapsed": true
   },
   "outputs": [],
   "source": [
    "@app.route('/show_other_page', methods=['POST'])\n",
    "def show_other_page():\n",
    "    page_number = int(request.form['page_number'])\n",
    "        \n",
    "    list_ten=[]\n",
    "    for i in range(page_number*content_per_page, min(len(list_of_news), (page_number+1)*content_per_page)):\n",
    "        list_ten.append(list_of_news[i])\n",
    "    \n",
    "    rendered = render_template('ani_show_news.html', news_list=getSummarizedFromList(list_ten), number_of_pages=total_page, keyword=searched_word)\n",
    "\n",
    "    return rendered"
   ]
  },
  {
   "cell_type": "code",
   "execution_count": null,
   "metadata": {
    "collapsed": true
   },
   "outputs": [],
   "source": [
    "@app.route(\"/\")\n",
    "def search_key():\n",
    "    rendered = render_template('ani_search.html')\n",
    "    return rendered"
   ]
  },
  {
   "cell_type": "code",
   "execution_count": null,
   "metadata": {},
   "outputs": [
    {
     "name": "stderr",
     "output_type": "stream",
     "text": [
      " * Running on http://0.0.0.0:9000/ (Press CTRL+C to quit)\n",
      "127.0.0.1 - - [24/Nov/2018 17:34:17] \"\u001b[37mPOST /show_other_page HTTP/1.1\u001b[0m\" 200 -\n"
     ]
    },
    {
     "name": "stdout",
     "output_type": "stream",
     "text": [
      "bangladesh west indies   single\n",
      "3 3 3 2 2 2 2 2 1 1 1 1 1 1 1 1 1 1 1 1 1 1 1 1 1 1 1 1 1 1 1 1 "
     ]
    },
    {
     "name": "stderr",
     "output_type": "stream",
     "text": [
      "127.0.0.1 - - [24/Nov/2018 17:34:28] \"\u001b[37mPOST /show_result HTTP/1.1\u001b[0m\" 200 -\n",
      "127.0.0.1 - - [24/Nov/2018 17:39:26] \"\u001b[37mPOST /show_other_page HTTP/1.1\u001b[0m\" 200 -\n",
      "127.0.0.1 - - [24/Nov/2018 17:39:34] \"\u001b[37mPOST /show_other_page HTTP/1.1\u001b[0m\" 200 -\n",
      "127.0.0.1 - - [24/Nov/2018 17:39:39] \"\u001b[37mPOST /show_other_page HTTP/1.1\u001b[0m\" 200 -\n",
      "127.0.0.1 - - [24/Nov/2018 17:39:50] \"\u001b[37mPOST /show_other_page HTTP/1.1\u001b[0m\" 200 -\n",
      "127.0.0.1 - - [24/Nov/2018 17:40:29] \"\u001b[37mPOST /show_other_page HTTP/1.1\u001b[0m\" 200 -\n"
     ]
    },
    {
     "name": "stdout",
     "output_type": "stream",
     "text": [
      "1 1 1 1 1 1 1 1 1 1 1 1 1 1 1 1 1 1 1 1 1 1 1 1 1 1 1 1 1 1 1 1 1 1 1 1 1 1 1 1 1 1 1 1 1 1 1 1 1 1 1 1 1 1 1 1 1 1 1 1 1 1 1 1 1 1 1 1 1 1 1 1 1 1 1 1 1 1 1 1 1 1 1 1 1 1 1 1 1 1 1 1 1 1 1 1 1 1 1 1 1 1 1 1 1 1 1 1 1 1 1 1 1 1 1 1 1 1 1 1 1 1 1 1 1 1 1 1 1 1 bangladesh west indies   multi\n",
      "3 3 3 2 2 2 2 2 1 1 1 1 1 1 1 1 1 1 1 1 1 1 1 1 1 1 1 1 1 1 1 1 1 1 1 1 1 1 1 1 1 1 1 1 1 1 1 1 1 1 1 1 1 1 1 1 1 1 1 1 1 1 1 1 1 1 1 1 1 1 1 1 1 1 1 1 1 1 1 1 1 1 1 1 1 1 1 1 1 1 1 1 1 1 1 1 1 1 1 1 1 1 1 "
     ]
    },
    {
     "name": "stderr",
     "output_type": "stream",
     "text": [
      "127.0.0.1 - - [24/Nov/2018 17:40:58] \"\u001b[37mPOST /show_result HTTP/1.1\u001b[0m\" 200 -\n",
      "127.0.0.1 - - [24/Nov/2018 17:41:12] \"\u001b[37mPOST /show_other_page HTTP/1.1\u001b[0m\" 200 -\n"
     ]
    },
    {
     "name": "stdout",
     "output_type": "stream",
     "text": [
      "1 1 1 1 1 1 1 1 1 1 1 1 1 1 1 1 1 1 1 1 1 1 1 1 1 1 1 1 1 1 1 1 1 1 1 1 1 1 1 1 1 1 1 1 1 1 1 1 1 1 1 1 1 1 1 1 1 1 1 bangladesh west indies   single\n",
      "3 3 3 2 2 2 2 2 1 1 1 1 1 1 1 1 1 1 1 1 1 1 1 1 1 1 1 1 1 1 1 1 1 1 1 1 1 1 1 1 1 1 1 1 1 1 1 1 1 1 1 1 1 1 1 1 1 1 1 1 1 1 1 1 1 1 1 1 1 1 1 1 1 1 1 1 1 1 1 1 1 1 1 1 1 1 1 1 1 1 1"
     ]
    },
    {
     "name": "stderr",
     "output_type": "stream",
     "text": [
      "127.0.0.1 - - [24/Nov/2018 17:41:14] \"\u001b[37mPOST /show_result HTTP/1.1\u001b[0m\" 200 -\n"
     ]
    },
    {
     "name": "stdout",
     "output_type": "stream",
     "text": [
      " 1 1 1 1 1 1 1 1 1 1 1 1 1 1 1 1 1 1 1 1 1 1 1 1 1 1 1 1 1 1 1 1 1 1 1 1 1 1 1 1 1 1 1 1 1 1 1 1 1 1 1 1 1 1 1 1 1 1 1 1 1 1 1 1 1 1 1 1 1 1 1 bangladesh west indies   multi\n",
      "3 3 3 2 2 2 2 2 1 1 1 1 1 1 1 1 1 1 1 1 1 1 1 1 1 1 1 1 1 1 1 1 1 1 1 1 1 1 1 1 1 1 1 1 1 1 1 1 1 1 1 1 1 1 1 1 1 1 1 1 1 1 1 1 1 1 1 1 1 1 1 1 1 1 1 1 1 1 1 1 1 1 1 1 1 1 1 1 1 1 1 1 1 1 1 1 1 1 1 1 1 1 1 "
     ]
    },
    {
     "name": "stderr",
     "output_type": "stream",
     "text": [
      "127.0.0.1 - - [24/Nov/2018 17:41:19] \"\u001b[37mPOST /show_result HTTP/1.1\u001b[0m\" 200 -\n",
      "127.0.0.1 - - [24/Nov/2018 17:46:49] \"\u001b[37mGET / HTTP/1.1\u001b[0m\" 200 -\n"
     ]
    }
   ],
   "source": [
    "if __name__ == '__main__':\n",
    "    from werkzeug.serving import run_simple\n",
    "    run_simple('0.0.0.0', 9000, app)"
   ]
  },
  {
   "cell_type": "code",
   "execution_count": null,
   "metadata": {
    "collapsed": true
   },
   "outputs": [],
   "source": []
  },
  {
   "cell_type": "code",
   "execution_count": null,
   "metadata": {
    "collapsed": true
   },
   "outputs": [],
   "source": []
  }
 ],
 "metadata": {
  "kernelspec": {
   "display_name": "Python 3",
   "language": "python",
   "name": "python3"
  },
  "language_info": {
   "codemirror_mode": {
    "name": "ipython",
    "version": 3
   },
   "file_extension": ".py",
   "mimetype": "text/x-python",
   "name": "python",
   "nbconvert_exporter": "python",
   "pygments_lexer": "ipython3",
   "version": "3.6.3"
  }
 },
 "nbformat": 4,
 "nbformat_minor": 2
}
