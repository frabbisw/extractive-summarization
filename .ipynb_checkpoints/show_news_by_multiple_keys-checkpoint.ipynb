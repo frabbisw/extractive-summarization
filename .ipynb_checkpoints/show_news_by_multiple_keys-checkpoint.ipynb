{
 "cells": [
  {
   "cell_type": "code",
   "execution_count": 18,
   "metadata": {},
   "outputs": [],
   "source": [
    "import math\n",
    "from textblob import TextBlob as tb\n",
    "import newspaper\n",
    "import os\n",
    "import random\n",
    "import pickle"
   ]
  },
  {
   "cell_type": "code",
   "execution_count": 19,
   "metadata": {},
   "outputs": [],
   "source": [
    "import import_ipynb\n",
    "#from cluster_based_summarizer import summarize\n",
    "from lexrank_summarizer import lexrank\n",
    "from news_classes import customizedPaper\n",
    "from news_classes import paragraph"
   ]
  },
  {
   "cell_type": "code",
   "execution_count": 20,
   "metadata": {},
   "outputs": [],
   "source": [
    "from werkzeug.wrappers import Request, Response\n",
    "from flask import Flask\n",
    "from flask import render_template\n",
    "from flask import request"
   ]
  },
  {
   "cell_type": "code",
   "execution_count": 12,
   "metadata": {},
   "outputs": [
    {
     "ename": "NameError",
     "evalue": "name 'idf_path' is not defined",
     "output_type": "error",
     "traceback": [
      "\u001b[0;31m---------------------------------------------------------------------------\u001b[0m",
      "\u001b[0;31mNameError\u001b[0m                                 Traceback (most recent call last)",
      "\u001b[0;32m<ipython-input-12-79e0a931a66c>\u001b[0m in \u001b[0;36m<module>\u001b[0;34m\u001b[0m\n\u001b[1;32m      1\u001b[0m \u001b[0mcwd\u001b[0m\u001b[0;34m=\u001b[0m\u001b[0mos\u001b[0m\u001b[0;34m.\u001b[0m\u001b[0mgetcwd\u001b[0m\u001b[0;34m(\u001b[0m\u001b[0;34m)\u001b[0m\u001b[0;34m+\u001b[0m\u001b[0;34m'/'\u001b[0m\u001b[0;34m\u001b[0m\u001b[0;34m\u001b[0m\u001b[0m\n\u001b[1;32m      2\u001b[0m \u001b[0mnews_path\u001b[0m\u001b[0;34m=\u001b[0m\u001b[0;34m'news_today.pkl'\u001b[0m\u001b[0;34m\u001b[0m\u001b[0;34m\u001b[0m\u001b[0m\n\u001b[0;32m----> 3\u001b[0;31m \u001b[0msummarizer\u001b[0m\u001b[0;34m=\u001b[0m\u001b[0mlexrank\u001b[0m\u001b[0;34m(\u001b[0m\u001b[0;36m.1\u001b[0m\u001b[0;34m,\u001b[0m\u001b[0;36m.0001\u001b[0m\u001b[0;34m)\u001b[0m\u001b[0;34m\u001b[0m\u001b[0;34m\u001b[0m\u001b[0m\n\u001b[0m",
      "\u001b[0;32m~/Desktop/codeblocks/hudai/extractive-summarization/lexrank_summarizer.ipynb\u001b[0m in \u001b[0;36m__init__\u001b[0;34m(self, threshold, tolerance)\u001b[0m\n",
      "\u001b[0;31mNameError\u001b[0m: name 'idf_path' is not defined"
     ]
    }
   ],
   "source": [
    "cwd=os.getcwd()+'/'\n",
    "news_path='news_today.pkl'\n",
    "summarizer=lexrank(.1,.0001)"
   ]
  },
  {
   "cell_type": "code",
   "execution_count": 21,
   "metadata": {},
   "outputs": [
    {
     "ename": "NameError",
     "evalue": "name 'idf_path' is not defined",
     "output_type": "error",
     "traceback": [
      "\u001b[0;31m---------------------------------------------------------------------------\u001b[0m",
      "\u001b[0;31mNameError\u001b[0m                                 Traceback (most recent call last)",
      "\u001b[0;32m<ipython-input-21-19cca1972f5e>\u001b[0m in \u001b[0;36m<module>\u001b[0;34m\u001b[0m\n\u001b[0;32m----> 1\u001b[0;31m \u001b[0mlx\u001b[0m \u001b[0;34m=\u001b[0m \u001b[0mlexrank\u001b[0m\u001b[0;34m(\u001b[0m\u001b[0;36m.1\u001b[0m\u001b[0;34m,\u001b[0m\u001b[0;36m.001\u001b[0m\u001b[0;34m)\u001b[0m\u001b[0;34m\u001b[0m\u001b[0;34m\u001b[0m\u001b[0m\n\u001b[0m\u001b[1;32m      2\u001b[0m \u001b[0mlx\u001b[0m\u001b[0;34m.\u001b[0m\u001b[0mload_idf\u001b[0m\u001b[0;34m(\u001b[0m\u001b[0;34m)\u001b[0m\u001b[0;34m\u001b[0m\u001b[0;34m\u001b[0m\u001b[0m\n\u001b[1;32m      3\u001b[0m \u001b[0;34m\u001b[0m\u001b[0m\n\u001b[1;32m      4\u001b[0m \u001b[0mpara\u001b[0m\u001b[0;34m=\u001b[0m\u001b[0;34m\"Trump was born and raised in the New York City borough of Queens. He received an economics degree from the Wharton School of the University of Pennsylvania and was appointed president of his family's real estate business in 1971, renamed it The Trump Organization, and expanded it from Queens and Brooklyn into Manhattan. The company built or renovated skyscrapers, hotels, casinos, and golf courses. Trump later started various side ventures, including licensing his name for real estate and consumer products. He managed the company until his 2017 inauguration. He co-authored several books, including The Art of the Deal. He owned the Miss Universe and Miss USA beauty pageants from 1996 to 2015, and he produced and hosted the reality television show, The Apprentice, from 2003 to 2015. Forbes estimates his net worth to be $3.1 billion.\"\u001b[0m\u001b[0;34m\u001b[0m\u001b[0;34m\u001b[0m\u001b[0m\n\u001b[1;32m      5\u001b[0m \u001b[0;34m\u001b[0m\u001b[0m\n",
      "\u001b[0;32m~/Desktop/codeblocks/hudai/extractive-summarization/lexrank_summarizer.ipynb\u001b[0m in \u001b[0;36m__init__\u001b[0;34m(self, threshold, tolerance)\u001b[0m\n",
      "\u001b[0;31mNameError\u001b[0m: name 'idf_path' is not defined"
     ]
    }
   ],
   "source": [
    "lx = lexrank(.1,.001)\n",
    "lx.load_idf()\n",
    "\n",
    "para=\"Trump was born and raised in the New York City borough of Queens. He received an economics degree from the Wharton School of the University of Pennsylvania and was appointed president of his family's real estate business in 1971, renamed it The Trump Organization, and expanded it from Queens and Brooklyn into Manhattan. The company built or renovated skyscrapers, hotels, casinos, and golf courses. Trump later started various side ventures, including licensing his name for real estate and consumer products. He managed the company until his 2017 inauguration. He co-authored several books, including The Art of the Deal. He owned the Miss Universe and Miss USA beauty pageants from 1996 to 2015, and he produced and hosted the reality television show, The Apprentice, from 2003 to 2015. Forbes estimates his net worth to be $3.1 billion.\"\n",
    "\n",
    "lx.summarize(para)"
   ]
  },
  {
   "cell_type": "code",
   "execution_count": 39,
   "metadata": {},
   "outputs": [],
   "source": [
    "with open(news_path, 'rb') as input:\n",
    "    allnews = pickle.load(input)"
   ]
  },
  {
   "cell_type": "code",
   "execution_count": 40,
   "metadata": {},
   "outputs": [],
   "source": [
    "def getSummarizedFromList(para_list):\n",
    "    summ_list=[]\n",
    "    for paragraph in para_list:\n",
    "        obj={'title':paragraph.title, 'url':paragraph.url, 'text':summarizer.summarize(paragraph.body), 'date':paragraph.date, 'brand':paragraph.brand}\n",
    "        summ_list.append(obj)    \n",
    "        \n",
    "    return summ_list"
   ]
  },
  {
   "cell_type": "code",
   "execution_count": 41,
   "metadata": {},
   "outputs": [],
   "source": [
    "def getMultiDocSummaryFromList(para_list):\n",
    "    blob_news=\"\"\n",
    "    for paragraph in para_list:\n",
    "        blob_news+=paragraph.body\n",
    "    \n",
    "    return summarize(blob_news, 5)"
   ]
  },
  {
   "cell_type": "code",
   "execution_count": 42,
   "metadata": {},
   "outputs": [],
   "source": [
    "def searchNews(searched_key, min_count):\n",
    "    key_words=searched_key.split()\n",
    " \n",
    "    para_list=[]\n",
    "    \n",
    "    for paragraph in allnews.paragraphs:\n",
    "        word_matched=0\n",
    "        letter_matched=0\n",
    "        for word in key_words:\n",
    "            word=word.lower()\n",
    "            if paragraph.title is not None and paragraph.body is not None:\n",
    "                if word in paragraph.title.lower().split():\n",
    "                    word_matched+=1\n",
    "                    letter_matched+=len(word)\n",
    "        if word_matched>=min_count and paragraph.date is not None:\n",
    "            paragraph.setCounts(word_matched)\n",
    "            paragraph.setLetterMatched(letter_matched)\n",
    "            para_list.append(paragraph)\n",
    "    return para_list"
   ]
  },
  {
   "cell_type": "code",
   "execution_count": 43,
   "metadata": {},
   "outputs": [],
   "source": [
    "def sortNews(para_list):\n",
    "    para_list.sort(key=lambda item:(item.cnt, item.ltr, item.date.year, item.date.month, item.date.day), reverse=True)\n",
    "    \n",
    "    return para_list"
   ]
  },
  {
   "cell_type": "code",
   "execution_count": 44,
   "metadata": {},
   "outputs": [
    {
     "data": {
      "text/plain": [
       "'\\ndef getNewsFromKey(searched_key):\\n    para_list = searchNews(searched_key)\\n    para_list = sortNews(para_list)\\n\\n    return para_list\\n'"
      ]
     },
     "execution_count": 44,
     "metadata": {},
     "output_type": "execute_result"
    }
   ],
   "source": [
    "'''\n",
    "def getNewsFromKey(searched_key):\n",
    "    para_list = searchNews(searched_key)\n",
    "    para_list = sortNews(para_list)\n",
    "\n",
    "    return para_list\n",
    "'''"
   ]
  },
  {
   "cell_type": "code",
   "execution_count": null,
   "metadata": {},
   "outputs": [],
   "source": []
  },
  {
   "cell_type": "code",
   "execution_count": 45,
   "metadata": {},
   "outputs": [],
   "source": [
    "list_of_news=[]\n",
    "searched_word=\"\"\n",
    "selected_item=\"\"\n",
    "total_page=0\n",
    "content_per_page=5"
   ]
  },
  {
   "cell_type": "code",
   "execution_count": 46,
   "metadata": {},
   "outputs": [],
   "source": [
    "app = Flask(__name__)"
   ]
  },
  {
   "cell_type": "code",
   "execution_count": 47,
   "metadata": {},
   "outputs": [],
   "source": [
    "def singleNewsFromKey(searched_key):\n",
    "    para_list = searchNews(searched_key, 1)\n",
    "    para_list = sortNews(para_list)\n",
    "\n",
    "    return para_list"
   ]
  },
  {
   "cell_type": "code",
   "execution_count": 48,
   "metadata": {},
   "outputs": [],
   "source": [
    "def multiNewsFromKey(searched_key):\n",
    "    para_list = searchNews(searched_key, len(searched_key.split()))\n",
    "    para_list = sortNews(para_list)\n",
    "\n",
    "    return para_list"
   ]
  },
  {
   "cell_type": "code",
   "execution_count": 49,
   "metadata": {},
   "outputs": [],
   "source": [
    "@app.route('/show_result', methods=['GET', 'POST'])\n",
    "def show_result():\n",
    "    global searched_word\n",
    "    searched_word = request.form['news_keyword']\n",
    "    global selected_item\n",
    "    selected_item = request.form.get('item')\n",
    "    \n",
    "    global list_of_news\n",
    "    \n",
    "    print(searched_word,\" \",selected_item)\n",
    "    \n",
    "    if selected_item == \"single\":\n",
    "        list_of_news=singleNewsFromKey(searched_word)\n",
    "        for i in list_of_news:\n",
    "            print(i.cnt, i.ltr, \" ## \", end=\" \")\n",
    "\n",
    "        global total_page\n",
    "        total_page=math.ceil(len(list_of_news)/content_per_page)\n",
    "\n",
    "        list_ten=[]\n",
    "        for i in range(min(len(list_of_news), content_per_page)):\n",
    "            list_ten.append(list_of_news[i])\n",
    "            \n",
    "        rendered = render_template('ani_show_news.html', news_list=getSummarizedFromList(list_ten), number_of_pages=total_page, keyword=searched_word)\n",
    "    else:\n",
    "        list_of_news=multiNewsFromKey(searched_word)\n",
    "        for i in list_of_news:\n",
    "            print(i.cnt, i.ltr, \" ## \", end=\" \")\n",
    "\n",
    "        list_ten=[]\n",
    "        for i in range(min(len(list_of_news), content_per_page)):\n",
    "            list_ten.append(list_of_news[i])\n",
    "            \n",
    "        rendered = render_template('ani_show_multi_news.html', multi_news=getMultiDocSummaryFromList(list_ten))\n",
    "    \n",
    "    return rendered"
   ]
  },
  {
   "cell_type": "code",
   "execution_count": 50,
   "metadata": {},
   "outputs": [],
   "source": [
    "@app.route('/show_other_page', methods=['POST'])\n",
    "def show_other_page():\n",
    "    page_number = int(request.form['page_number'])\n",
    "        \n",
    "    list_ten=[]\n",
    "    for i in range(page_number*content_per_page, min(len(list_of_news), (page_number+1)*content_per_page)):\n",
    "        list_ten.append(list_of_news[i])\n",
    "    \n",
    "    rendered = render_template('ani_show_news.html', news_list=getSummarizedFromList(list_ten), number_of_pages=total_page, keyword=searched_word)\n",
    "\n",
    "    return rendered"
   ]
  },
  {
   "cell_type": "code",
   "execution_count": 51,
   "metadata": {},
   "outputs": [],
   "source": [
    "@app.route(\"/\")\n",
    "def search_key():\n",
    "    rendered = render_template('ani_search.html')\n",
    "    return rendered"
   ]
  },
  {
   "cell_type": "code",
   "execution_count": 52,
   "metadata": {},
   "outputs": [
    {
     "name": "stderr",
     "output_type": "stream",
     "text": [
      " * Running on http://0.0.0.0:9000/ (Press CTRL+C to quit)\n",
      "127.0.0.1 - - [13/Dec/2018 22:50:47] \"GET / HTTP/1.1\" 200 -\n",
      "[2018-12-13 22:50:50,905] ERROR in app: Exception on /show_result [POST]\n",
      "Traceback (most recent call last):\n",
      "  File \"/home/rabbi/.local/lib/python3.6/site-packages/flask/app.py\", line 2292, in wsgi_app\n",
      "    response = self.full_dispatch_request()\n",
      "  File \"/home/rabbi/.local/lib/python3.6/site-packages/flask/app.py\", line 1815, in full_dispatch_request\n",
      "    rv = self.handle_user_exception(e)\n",
      "  File \"/home/rabbi/.local/lib/python3.6/site-packages/flask/app.py\", line 1718, in handle_user_exception\n",
      "    reraise(exc_type, exc_value, tb)\n",
      "  File \"/home/rabbi/.local/lib/python3.6/site-packages/flask/_compat.py\", line 35, in reraise\n",
      "    raise value\n",
      "  File \"/home/rabbi/.local/lib/python3.6/site-packages/flask/app.py\", line 1813, in full_dispatch_request\n",
      "    rv = self.dispatch_request()\n",
      "  File \"/home/rabbi/.local/lib/python3.6/site-packages/flask/app.py\", line 1799, in dispatch_request\n",
      "    return self.view_functions[rule.endpoint](**req.view_args)\n",
      "  File \"<ipython-input-49-f862dc9d7a8b>\", line 24, in show_result\n",
      "    rendered = render_template('ani_show_news.html', news_list=getSummarizedFromList(list_ten), number_of_pages=total_page, keyword=searched_word)\n",
      "  File \"<ipython-input-40-a50bb6678598>\", line 4, in getSummarizedFromList\n",
      "    obj={'title':paragraph.title, 'url':paragraph.url, 'text':summarizer.summarize(paragraph.body), 'date':paragraph.date, 'brand':paragraph.brand}\n",
      "  File \"<string>\", line 105, in summarize\n",
      "  File \"<string>\", line 82, in rank_sentences\n",
      "  File \"<string>\", line 50, in cosine_matrix\n",
      "  File \"<string>\", line 36, in cosine_distance\n",
      "  File \"<string>\", line 12, in get_idf\n",
      "AttributeError: 'lexrank' object has no attribute 'idfblob'\n",
      "127.0.0.1 - - [13/Dec/2018 22:50:50] \"POST /show_result HTTP/1.1\" 500 -\n"
     ]
    },
    {
     "name": "stdout",
     "output_type": "stream",
     "text": [
      "shakib al hasan   single\n",
      "1 6  ##  1 6  ##  1 6  ##  1 2  ##  1 2  ##  1 2  ##  1 2  ##  1 2  ##  1 2  ##  1 2  ##  1 2  ##  1 2  ##  1 2  ##  1 2  ##  1 2  ##  1 2  ##  1 2  ##  1 2  ##  1 2  ##  1 2  ##  1 2  ##  1 2  ##  "
     ]
    }
   ],
   "source": [
    "if __name__ == '__main__':\n",
    "    from werkzeug.serving import run_simple\n",
    "    run_simple('0.0.0.0', 9000, app)"
   ]
  },
  {
   "cell_type": "code",
   "execution_count": null,
   "metadata": {},
   "outputs": [],
   "source": []
  },
  {
   "cell_type": "code",
   "execution_count": null,
   "metadata": {},
   "outputs": [],
   "source": []
  },
  {
   "cell_type": "code",
   "execution_count": null,
   "metadata": {},
   "outputs": [],
   "source": []
  }
 ],
 "metadata": {
  "kernelspec": {
   "display_name": "Python 3",
   "language": "python",
   "name": "python3"
  },
  "language_info": {
   "codemirror_mode": {
    "name": "ipython",
    "version": 3
   },
   "file_extension": ".py",
   "mimetype": "text/x-python",
   "name": "python",
   "nbconvert_exporter": "python",
   "pygments_lexer": "ipython3",
   "version": "3.6.7"
  }
 },
 "nbformat": 4,
 "nbformat_minor": 2
}
