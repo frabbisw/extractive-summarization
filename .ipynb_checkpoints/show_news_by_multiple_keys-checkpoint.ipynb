{
 "cells": [
  {
   "cell_type": "code",
   "execution_count": 34,
   "metadata": {},
   "outputs": [],
   "source": [
    "import math\n",
    "from textblob import TextBlob as tb\n",
    "import newspaper\n",
    "import os\n",
    "import random\n",
    "import pickle\n",
    "from datetime import datetime\n",
    "from tqdm import tqdm as tq"
   ]
  },
  {
   "cell_type": "code",
   "execution_count": 35,
   "metadata": {},
   "outputs": [],
   "source": [
    "import import_ipynb\n",
    "from prepare import collector\n",
    "from lexrank_summarizer import lexrank\n",
    "from news_classes import customizedPaper\n",
    "from news_classes import paragraph"
   ]
  },
  {
   "cell_type": "code",
   "execution_count": 36,
   "metadata": {},
   "outputs": [],
   "source": [
    "from werkzeug.wrappers import Request, Response\n",
    "from flask import Flask\n",
    "from flask import render_template\n",
    "from flask import request"
   ]
  },
  {
   "cell_type": "code",
   "execution_count": 37,
   "metadata": {},
   "outputs": [],
   "source": [
    "import _thread\n",
    "import time"
   ]
  },
  {
   "cell_type": "markdown",
   "metadata": {},
   "source": [
    "from werkzeug.wrappers import Request, Response\n",
    "from flask import Flask\n",
    "from flask import render_template\n",
    "from flask import request"
   ]
  },
  {
   "cell_type": "code",
   "execution_count": 38,
   "metadata": {},
   "outputs": [],
   "source": [
    "cwd=os.getcwd()+'/'\n",
    "news_path='news_today.pkl'\n",
    "summarizer=lexrank(.1,.0001)"
   ]
  },
  {
   "cell_type": "code",
   "execution_count": 39,
   "metadata": {},
   "outputs": [],
   "source": [
    "with open(news_path, 'rb') as input:\n",
    "    allnews = pickle.load(input)"
   ]
  },
  {
   "cell_type": "code",
   "execution_count": 40,
   "metadata": {},
   "outputs": [],
   "source": [
    "def worker():\n",
    "    while True:\n",
    "        collector.prepare_news()\n",
    "        print(\"News Collected\")\n",
    "        collector.prepare_idf()\n",
    "        print(\"Idf Stored\")\n",
    "        with open(news_path, 'rb') as input:\n",
    "            allnews = pickle.load(input)"
   ]
  },
  {
   "cell_type": "code",
   "execution_count": 41,
   "metadata": {},
   "outputs": [
    {
     "name": "stderr",
     "output_type": "stream",
     "text": [
      "\r",
      "  0%|          | 0/6 [00:00<?, ?it/s]"
     ]
    }
   ],
   "source": [
    "try:\n",
    "   _thread.start_new_thread(worker,())\n",
    "except:\n",
    "   print (\"Error: unable to start thread\")"
   ]
  },
  {
   "cell_type": "code",
   "execution_count": 42,
   "metadata": {},
   "outputs": [],
   "source": [
    "def getSummarizedFromList(para_list):\n",
    "    summ_list=[]\n",
    "    for paragraph in para_list:\n",
    "        obj={'title':paragraph.title, 'url':paragraph.url, 'text':summarizer.summarize(paragraph.body), 'date':paragraph.date, 'brand':paragraph.brand}\n",
    "        summ_list.append(obj)    \n",
    "        \n",
    "    return summ_list"
   ]
  },
  {
   "cell_type": "code",
   "execution_count": 43,
   "metadata": {},
   "outputs": [],
   "source": [
    "def getMultiDocSummaryFromList(para_list):\n",
    "    blob_news=\"\"\n",
    "    for paragraph in para_list:\n",
    "        blob_news+=paragraph.body\n",
    "    \n",
    "    return summarize(blob_news, 5)"
   ]
  },
  {
   "cell_type": "code",
   "execution_count": 44,
   "metadata": {},
   "outputs": [],
   "source": [
    "def searchNews(searched_key, min_count):\n",
    "    key_words=searched_key.split()\n",
    " \n",
    "    para_list=[]\n",
    "    \n",
    "    for paragraph in allnews.paragraphs:\n",
    "        word_matched=0\n",
    "        letter_matched=0\n",
    "        for word in key_words:\n",
    "            word=word.lower()\n",
    "            if paragraph.title is not None and paragraph.body is not None:\n",
    "                if word in paragraph.title.lower().split():\n",
    "                    word_matched+=1\n",
    "                    letter_matched+=len(word)\n",
    "        if word_matched>=min_count and paragraph.date is not None:\n",
    "            paragraph.setCounts(word_matched)\n",
    "            paragraph.setLetterMatched(letter_matched)\n",
    "            para_list.append(paragraph)\n",
    "    return para_list"
   ]
  },
  {
   "cell_type": "code",
   "execution_count": 45,
   "metadata": {},
   "outputs": [],
   "source": [
    "def sortNews(para_list):\n",
    "    para_list.sort(key=lambda item:(item.cnt, item.ltr, item.date.year, item.date.month, item.date.day), reverse=True)\n",
    "    \n",
    "    return para_list"
   ]
  },
  {
   "cell_type": "code",
   "execution_count": 46,
   "metadata": {},
   "outputs": [],
   "source": [
    "list_of_news=[]\n",
    "searched_word=\"\"\n",
    "selected_item=\"\"\n",
    "total_page=0\n",
    "content_per_page=5"
   ]
  },
  {
   "cell_type": "code",
   "execution_count": 47,
   "metadata": {},
   "outputs": [],
   "source": [
    "app = Flask(__name__)"
   ]
  },
  {
   "cell_type": "code",
   "execution_count": 48,
   "metadata": {},
   "outputs": [],
   "source": [
    "def singleNewsFromKey(searched_key):\n",
    "    para_list = searchNews(searched_key, 1)\n",
    "    para_list = sortNews(para_list)\n",
    "\n",
    "    return para_list"
   ]
  },
  {
   "cell_type": "code",
   "execution_count": 49,
   "metadata": {},
   "outputs": [],
   "source": [
    "def multiNewsFromKey(searched_key):\n",
    "    para_list = searchNews(searched_key, len(searched_key.split()))\n",
    "    para_list = sortNews(para_list)\n",
    "\n",
    "    return para_list"
   ]
  },
  {
   "cell_type": "code",
   "execution_count": 50,
   "metadata": {},
   "outputs": [],
   "source": [
    "@app.route('/show_result', methods=['GET', 'POST'])\n",
    "def show_result():\n",
    "    global searched_word\n",
    "    searched_word = request.form['news_keyword']\n",
    "    global selected_item\n",
    "    selected_item = request.form.get('item')\n",
    "    \n",
    "    global list_of_news\n",
    "    \n",
    "    print(searched_word,\" \",selected_item)\n",
    "    \n",
    "    if selected_item == \"single\":\n",
    "        list_of_news=singleNewsFromKey(searched_word)\n",
    "        for i in list_of_news:\n",
    "            print(i.cnt, i.ltr, \" ## \", end=\" \")\n",
    "\n",
    "        global total_page\n",
    "        total_page=math.ceil(len(list_of_news)/content_per_page)\n",
    "\n",
    "        list_ten=[]\n",
    "        for i in range(min(len(list_of_news), content_per_page)):\n",
    "            list_ten.append(list_of_news[i])\n",
    "            \n",
    "        rendered = render_template('ani_show_news.html', news_list=getSummarizedFromList(list_ten), number_of_pages=total_page, keyword=searched_word)\n",
    "    else:\n",
    "        list_of_news=multiNewsFromKey(searched_word)\n",
    "        for i in list_of_news:\n",
    "            print(i.cnt, i.ltr, \" ## \", end=\" \")\n",
    "\n",
    "        list_ten=[]\n",
    "        for i in range(min(len(list_of_news), content_per_page)):\n",
    "            list_ten.append(list_of_news[i])\n",
    "            \n",
    "        rendered = render_template('ani_show_multi_news.html', multi_news=getMultiDocSummaryFromList(list_ten))\n",
    "    \n",
    "    return rendered"
   ]
  },
  {
   "cell_type": "code",
   "execution_count": 51,
   "metadata": {},
   "outputs": [],
   "source": [
    "@app.route('/show_other_page', methods=['POST'])\n",
    "def show_other_page():\n",
    "    page_number = int(request.form['page_number'])\n",
    "        \n",
    "    list_ten=[]\n",
    "    for i in range(page_number*content_per_page, min(len(list_of_news), (page_number+1)*content_per_page)):\n",
    "        list_ten.append(list_of_news[i])\n",
    "    \n",
    "    rendered = render_template('ani_show_news.html', news_list=getSummarizedFromList(list_ten), number_of_pages=total_page, keyword=searched_word)\n",
    "\n",
    "    return rendered"
   ]
  },
  {
   "cell_type": "code",
   "execution_count": 52,
   "metadata": {},
   "outputs": [],
   "source": [
    "@app.route(\"/\")\n",
    "def search_key():\n",
    "    rendered = render_template('ani_search.html')\n",
    "    return rendered"
   ]
  },
  {
   "cell_type": "code",
   "execution_count": 53,
   "metadata": {},
   "outputs": [
    {
     "name": "stderr",
     "output_type": "stream",
     "text": [
      " * Running on http://0.0.0.0:9000/ (Press CTRL+C to quit)\n",
      "127.0.0.1 - - [14/Dec/2018 02:07:52] \"GET / HTTP/1.1\" 200 -\n",
      " 17%|█▋        | 1/6 [00:17<01:26, 17.22s/it]"
     ]
    },
    {
     "name": "stdout",
     "output_type": "stream",
     "text": [
      "https://www.thedailystar.net/\n"
     ]
    },
    {
     "name": "stderr",
     "output_type": "stream",
     "text": [
      "\r",
      " 33%|███▎      | 2/6 [00:25<00:57, 14.42s/it]"
     ]
    },
    {
     "name": "stdout",
     "output_type": "stream",
     "text": [
      "http://www.observerbd.com/\n"
     ]
    },
    {
     "name": "stderr",
     "output_type": "stream",
     "text": [
      "\r",
      " 50%|█████     | 3/6 [00:30<00:34, 11.64s/it]"
     ]
    },
    {
     "name": "stdout",
     "output_type": "stream",
     "text": [
      "https://bdnews24.com/\n"
     ]
    },
    {
     "name": "stderr",
     "output_type": "stream",
     "text": [
      "\r",
      " 67%|██████▋   | 4/6 [00:35<00:19,  9.66s/it]"
     ]
    },
    {
     "name": "stdout",
     "output_type": "stream",
     "text": [
      "https://en.prothomalo.com/\n"
     ]
    },
    {
     "name": "stderr",
     "output_type": "stream",
     "text": [
      "\r",
      " 83%|████████▎ | 5/6 [00:47<00:10, 10.31s/it]"
     ]
    },
    {
     "name": "stdout",
     "output_type": "stream",
     "text": [
      "https://www.clickittefaq.com/\n"
     ]
    },
    {
     "name": "stderr",
     "output_type": "stream",
     "text": [
      "100%|██████████| 6/6 [00:51<00:00,  8.41s/it]\n",
      "  0%|          | 0/6 [00:00<?, ?it/s]\n",
      "  0%|          | 0/1216 [00:00<?, ?it/s]\u001b[A"
     ]
    },
    {
     "name": "stdout",
     "output_type": "stream",
     "text": [
      "http://english.kalerkantho.com/\n"
     ]
    },
    {
     "name": "stderr",
     "output_type": "stream",
     "text": [
      "\n",
      "  0%|          | 1/1216 [00:00<13:10,  1.54it/s]\u001b[A\n",
      "  0%|          | 2/1216 [00:01<12:18,  1.64it/s]\u001b[A\n",
      "  0%|          | 3/1216 [00:01<11:09,  1.81it/s]\u001b[A\n",
      "  0%|          | 4/1216 [00:02<10:44,  1.88it/s]\u001b[A\n",
      "  0%|          | 5/1216 [00:02<10:08,  1.99it/s]\u001b[A\n",
      "  0%|          | 6/1216 [00:02<09:10,  2.20it/s]\u001b[A\n",
      "  1%|          | 7/1216 [00:03<11:54,  1.69it/s]\u001b[A\n",
      "  1%|          | 8/1216 [00:04<10:52,  1.85it/s]\u001b[A\n",
      "  1%|          | 9/1216 [00:04<10:24,  1.93it/s]\u001b[A\n",
      "  1%|          | 10/1216 [00:05<10:00,  2.01it/s]\u001b[A\n",
      "  1%|          | 11/1216 [00:05<09:33,  2.10it/s]\u001b[A\n",
      "  1%|          | 12/1216 [00:05<09:25,  2.13it/s]\u001b[A"
     ]
    }
   ],
   "source": [
    "if __name__ == '__main__':\n",
    "    from werkzeug.serving import run_simple\n",
    "    run_simple('0.0.0.0', 9000, app)"
   ]
  },
  {
   "cell_type": "code",
   "execution_count": null,
   "metadata": {},
   "outputs": [],
   "source": []
  },
  {
   "cell_type": "code",
   "execution_count": null,
   "metadata": {},
   "outputs": [],
   "source": []
  },
  {
   "cell_type": "code",
   "execution_count": null,
   "metadata": {},
   "outputs": [],
   "source": []
  }
 ],
 "metadata": {
  "kernelspec": {
   "display_name": "Python 3",
   "language": "python",
   "name": "python3"
  },
  "language_info": {
   "codemirror_mode": {
    "name": "ipython",
    "version": 3
   },
   "file_extension": ".py",
   "mimetype": "text/x-python",
   "name": "python",
   "nbconvert_exporter": "python",
   "pygments_lexer": "ipython3",
   "version": "3.6.7"
  }
 },
 "nbformat": 4,
 "nbformat_minor": 2
}
