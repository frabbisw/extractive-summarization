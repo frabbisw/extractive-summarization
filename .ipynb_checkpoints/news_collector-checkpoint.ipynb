{
 "cells": [
  {
   "cell_type": "code",
   "execution_count": 1,
   "metadata": {},
   "outputs": [
    {
     "name": "stderr",
     "output_type": "stream",
     "text": [
      "/home/rabbi/.local/lib/python3.5/site-packages/requests/__init__.py:83: RequestsDependencyWarning: Old version of cryptography ([1, 2, 3]) may cause slowdown.\n",
      "  warnings.warn(warning, RequestsDependencyWarning)\n"
     ]
    },
    {
     "name": "stdout",
     "output_type": "stream",
     "text": [
      "importing Jupyter notebook from news_classes.ipynb\n"
     ]
    }
   ],
   "source": [
    "import newspaper\n",
    "import os\n",
    "import random\n",
    "import pickle\n",
    "import import_ipynb\n",
    "from news_classes import *"
   ]
  },
  {
   "cell_type": "code",
   "execution_count": 2,
   "metadata": {},
   "outputs": [],
   "source": [
    "url=\"https://bdnews24.com/\"\n",
    "paper_today = newspaper.build(url,  memoize_articles=False)\n",
    "\n",
    "cwd=os.getcwd()+'/'\n",
    "paper_path='bdnews_news_25_18.pkl'"
   ]
  },
  {
   "cell_type": "code",
   "execution_count": null,
   "metadata": {},
   "outputs": [
    {
     "name": "stdout",
     "output_type": "stream",
     "text": [
      "Downloading... 0.25%     Downloading... 0.38%     Downloading... 0.51%     Downloading... 0.63%     Downloading... 0.76%     Downloading... 0.88%     Downloading... 1.01%     Downloading... 1.14%     Downloading... 1.26%     Downloading... 1.39%     Downloading... 1.52%     Downloading... 1.64%     Downloading... 1.77%     Downloading... 1.9%     Downloading... 2.02%     Downloading... 2.15%     Downloading... 2.28%     Downloading... 2.4%     Downloading... 2.53%     Downloading... 2.65%     Downloading... 2.78%     Downloading... 2.91%     Downloading... 3.03%     Downloading... 3.16%     Downloading... 3.29%     Downloading... 3.41%     Downloading... 3.54%     Downloading... 3.67%     Downloading... 3.79%     Downloading... 3.92%     Downloading... 4.05%     Downloading... 4.17%     Downloading... 4.3%     Downloading... 4.42%     Downloading... 4.55%     Downloading... 4.68%     Downloading... 4.8%     Downloading... 4.93%     Downloading... 5.06%     Downloading... 5.18%     Downloading... 5.31%     Downloading... 5.44%     Downloading... 5.56%     Downloading... 5.69%     Downloading... 5.82%     Downloading... 5.94%     Downloading... 6.07%     Downloading... 6.19%     Downloading... 6.32%     Downloading... 6.45%     Downloading... 6.57%     Downloading... 6.7%     Downloading... 6.83%     Downloading... 6.95%     Downloading... 7.08%     Downloading... 7.21%     Downloading... 7.33%     Downloading... 7.46%     Downloading... 7.59%     "
     ]
    }
   ],
   "source": [
    "myPaper = customizedPaper()\n",
    "\n",
    "cnt = 0 \n",
    "for article in paper_today.articles: \n",
    "    try:\n",
    "        article.download() \n",
    "        article.parse() \n",
    "\n",
    "        temp_article=paragraph(article.title, article.url, article.text, article.publish_date, paper_today.brand) \n",
    "        myPaper.addParagraph(temp_article)\n",
    "\n",
    "        cnt+=1\n",
    "        downloaded=round(100*cnt/len(paper_today.articles), 2)\n",
    "        \n",
    "        print(\"Downloading... \"+str(downloaded)+\"% \", end=\"\\r\")\n",
    "    except:\n",
    "        None"
   ]
  },
  {
   "cell_type": "code",
   "execution_count": null,
   "metadata": {},
   "outputs": [],
   "source": [
    "with open(paper_path, 'wb') as output:\n",
    "    pickle.dump(myPaper, output, pickle.HIGHEST_PROTOCOL)"
   ]
  },
  {
   "cell_type": "code",
   "execution_count": null,
   "metadata": {},
   "outputs": [],
   "source": [
    "with open(paper_path, 'rb') as input:\n",
    "    tnews = pickle.load(input)"
   ]
  },
  {
   "cell_type": "code",
   "execution_count": null,
   "metadata": {},
   "outputs": [],
   "source": [
    "cnt=0\n",
    "for mmm in tnews.paragraphs:\n",
    "    if mmm is not None:\n",
    "        print(mmm.title)\n",
    "        cnt=cnt+1\n",
    "print(cnt)"
   ]
  }
 ],
 "metadata": {
  "kernelspec": {
   "display_name": "Python 3",
   "language": "python",
   "name": "python3"
  },
  "language_info": {
   "codemirror_mode": {
    "name": "ipython",
    "version": 3
   },
   "file_extension": ".py",
   "mimetype": "text/x-python",
   "name": "python",
   "nbconvert_exporter": "python",
   "pygments_lexer": "ipython3",
   "version": "3.5.2"
  }
 },
 "nbformat": 4,
 "nbformat_minor": 2
}
