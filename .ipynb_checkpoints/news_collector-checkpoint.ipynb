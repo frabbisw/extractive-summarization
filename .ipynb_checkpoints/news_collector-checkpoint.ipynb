{
 "cells": [
  {
   "cell_type": "code",
   "execution_count": 1,
   "metadata": {},
   "outputs": [
    {
     "name": "stdout",
     "output_type": "stream",
     "text": [
      "importing Jupyter notebook from news_classes.ipynb\n"
     ]
    }
   ],
   "source": [
    "import newspaper\n",
    "import os\n",
    "import random\n",
    "import pickle\n",
    "from datetime import datetime\n",
    "import import_ipynb\n",
    "from news_classes import *\n",
    "from tqdm import tqdm as tq"
   ]
  },
  {
   "cell_type": "code",
   "execution_count": 2,
   "metadata": {
    "collapsed": true
   },
   "outputs": [],
   "source": [
    "urls=[]\n",
    "urls.append(\"https://www.thedailystar.net/\")\n",
    "urls.append(\"http://www.observerbd.com/\")\n",
    "urls.append(\"https://bdnews24.com/\")\n",
    "urls.append(\"https://en.prothomalo.com/\")\n",
    "urls.append(\"https://www.clickittefaq.com/\")\n",
    "urls.append(\"http://english.kalerkantho.com/\")"
   ]
  },
  {
   "cell_type": "code",
   "execution_count": 3,
   "metadata": {},
   "outputs": [
    {
     "name": "stderr",
     "output_type": "stream",
     "text": [
      " 17%|█▋        | 1/6 [00:04<00:24,  4.89s/it]"
     ]
    },
    {
     "name": "stdout",
     "output_type": "stream",
     "text": [
      "https://www.thedailystar.net/\n"
     ]
    },
    {
     "name": "stderr",
     "output_type": "stream",
     "text": [
      "\r",
      " 33%|███▎      | 2/6 [00:10<00:20,  5.09s/it]"
     ]
    },
    {
     "name": "stdout",
     "output_type": "stream",
     "text": [
      "http://www.observerbd.com/\n"
     ]
    },
    {
     "name": "stderr",
     "output_type": "stream",
     "text": [
      "\r",
      " 50%|█████     | 3/6 [00:16<00:16,  5.40s/it]"
     ]
    },
    {
     "name": "stdout",
     "output_type": "stream",
     "text": [
      "https://bdnews24.com/\n"
     ]
    },
    {
     "name": "stderr",
     "output_type": "stream",
     "text": [
      "\r",
      " 67%|██████▋   | 4/6 [00:22<00:11,  5.52s/it]"
     ]
    },
    {
     "name": "stdout",
     "output_type": "stream",
     "text": [
      "https://en.prothomalo.com/\n"
     ]
    },
    {
     "name": "stderr",
     "output_type": "stream",
     "text": [
      "\r",
      " 83%|████████▎ | 5/6 [00:33<00:07,  7.29s/it]"
     ]
    },
    {
     "name": "stdout",
     "output_type": "stream",
     "text": [
      "https://www.clickittefaq.com/\n"
     ]
    },
    {
     "name": "stderr",
     "output_type": "stream",
     "text": [
      "\r",
      "100%|██████████| 6/6 [00:37<00:00,  6.24s/it]"
     ]
    },
    {
     "name": "stdout",
     "output_type": "stream",
     "text": [
      "http://english.kalerkantho.com/\n"
     ]
    },
    {
     "name": "stderr",
     "output_type": "stream",
     "text": [
      "\n"
     ]
    }
   ],
   "source": [
    "papers_today = []\n",
    "for url in tq(urls):\n",
    "    papers_today.append(newspaper.build(url,  memoize_articles=False))\n",
    "    print(url)\n",
    "\n",
    "cwd=os.getcwd()+'/'\n",
    "now = datetime.now()\n",
    "#paper_path = \"news_\"+str(now.day)+\"_\"+str(now.month)+\"_\"+str(now.year)+\".pkl\"\n",
    "paper_path = \"news_today.pkl\""
   ]
  },
  {
   "cell_type": "code",
   "execution_count": null,
   "metadata": {
    "collapsed": true
   },
   "outputs": [],
   "source": [
    "myPaper = customizedPaper()"
   ]
  },
  {
   "cell_type": "code",
   "execution_count": null,
   "metadata": {},
   "outputs": [
    {
     "name": "stderr",
     "output_type": "stream",
     "text": [
      "\r",
      "  0%|          | 0/6 [00:00<?, ?it/s]"
     ]
    }
   ],
   "source": [
    "cnt = 0 \n",
    "for paper in tq(papers_today):\n",
    "    for article in tq(paper.articles):\n",
    "        try:\n",
    "            article.download() \n",
    "            article.parse() \n",
    "\n",
    "            temp_article=paragraph(article.title, article.url, article.text, article.publish_date, paper.brand) \n",
    "            myPaper.addParagraph(temp_article)\n",
    "        except:\n",
    "            None"
   ]
  },
  {
   "cell_type": "code",
   "execution_count": null,
   "metadata": {
    "collapsed": true
   },
   "outputs": [],
   "source": [
    "with open(paper_path, 'wb') as output:\n",
    "    pickle.dump(myPaper, output, pickle.HIGHEST_PROTOCOL)"
   ]
  },
  {
   "cell_type": "code",
   "execution_count": null,
   "metadata": {
    "collapsed": true
   },
   "outputs": [],
   "source": [
    "with open(paper_path, 'rb') as input:\n",
    "    tnews = pickle.load(input)"
   ]
  },
  {
   "cell_type": "code",
   "execution_count": null,
   "metadata": {
    "collapsed": true
   },
   "outputs": [],
   "source": [
    "cnt=0\n",
    "for mmm in tnews.paragraphs:\n",
    "    if mmm is not None:\n",
    "        cnt=cnt+1\n",
    "print(cnt)"
   ]
  }
 ],
 "metadata": {
  "kernelspec": {
   "display_name": "Python 3",
   "language": "python",
   "name": "python3"
  },
  "language_info": {
   "codemirror_mode": {
    "name": "ipython",
    "version": 3
   },
   "file_extension": ".py",
   "mimetype": "text/x-python",
   "name": "python",
   "nbconvert_exporter": "python",
   "pygments_lexer": "ipython3",
   "version": "3.6.3"
  }
 },
 "nbformat": 4,
 "nbformat_minor": 2
}
