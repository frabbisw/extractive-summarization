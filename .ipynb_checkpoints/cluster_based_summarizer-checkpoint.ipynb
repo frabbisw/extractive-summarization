{
 "cells": [
  {
   "cell_type": "code",
   "execution_count": 81,
   "metadata": {},
   "outputs": [],
   "source": [
    "from collections import Counter\n",
    "from sklearn.cluster import KMeans\n",
    "import import_ipynb\n",
    "from news_classes import *\n",
    "from tfidf_calculator import get_sent_tfidfs\n",
    "import math\n",
    "from textblob import TextBlob as tb\n",
    "import os\n",
    "import pickle\n",
    "import numpy as np"
   ]
  },
  {
   "cell_type": "code",
   "execution_count": 82,
   "metadata": {},
   "outputs": [],
   "source": [
    "def summarize(para):\n",
    "    sentences=tb(para).sentences\n",
    "    \n",
    "    if len(sentences) is 0:\n",
    "        return 'nothing';\n",
    "    \n",
    "    lower_sentences=[]\n",
    "    for sentence in sentences:\n",
    "        lower_sentences.append(sentence.lower())\n",
    "        \n",
    "    sent_idfs=get_sent_tfidfs(lower_sentences)\n",
    "    \n",
    "    X1 = np.array(sent_idfs)\n",
    "    X1=X1.reshape(-1,1)\n",
    "    X2 = np.zeros((len(X1),1))\n",
    "    X = np.hstack((X1,X2))\n",
    "    \n",
    "    if len(X) <= 20:\n",
    "        cluster_size=len(X)-4\n",
    "    else:\n",
    "        cluster_size=len(X)-20\n",
    "    \n",
    "    cluster_size=max(1, len(X)//2)\n",
    "    kmeans = KMeans(n_clusters=cluster_size, random_state=0).fit(X)\n",
    "    \n",
    "    counter={}\n",
    "    n=len(X)\n",
    "    for i in range(cluster_size):\n",
    "        counter[i]=0\n",
    "    for i in range(n):\n",
    "        counter[kmeans.labels_[i]]+=1\n",
    "    mx=0\n",
    "    for i in range(cluster_size):\n",
    "        if counter[i]>counter[mx]:\n",
    "            mx=i\n",
    "            \n",
    "    summarized_para=\"\"\n",
    "    for i in range(len(sentences)):\n",
    "        if kmeans.labels_[i] == mx:\n",
    "            summarized_para+=(str(sentences[i])+\" \")\n",
    "    \n",
    "    return summarized_para"
   ]
  },
  {
   "cell_type": "code",
   "execution_count": 83,
   "metadata": {
    "scrolled": true
   },
   "outputs": [],
   "source": [
    "para=\"The BNP chief challenged the legality of a trial court decision to continue the proceedings in her absence, and prayed to issue a rule on Anti-Corruption Commission (ACC) and the government to explain why the lower court's decision should not be scrapped. Trial cannot continue if the accused is sick, her lawyer Barrister Kaiser Kamal said, adding, that setting up a court in old Dhaka jail is unlawful and unconstitutional. Meanwhile, a Dhaka court yesterday fixed October 24 for framing charges against Khaleda in cases filed for undermining the national flag and observing “fake birthday” on August 15. \""
   ]
  },
  {
   "cell_type": "code",
   "execution_count": 84,
   "metadata": {},
   "outputs": [
    {
     "data": {
      "text/plain": [
       "\"The BNP chief challenged the legality of a trial court decision to continue the proceedings in her absence, and prayed to issue a rule on Anti-Corruption Commission (ACC) and the government to explain why the lower court's decision should not be scrapped. Trial cannot continue if the accused is sick, her lawyer Barrister Kaiser Kamal said, adding, that setting up a court in old Dhaka jail is unlawful and unconstitutional. Meanwhile, a Dhaka court yesterday fixed October 24 for framing charges against Khaleda in cases filed for undermining the national flag and observing “fake birthday” on August 15. \""
      ]
     },
     "execution_count": 84,
     "metadata": {},
     "output_type": "execute_result"
    }
   ],
   "source": [
    "summarize(para)"
   ]
  },
  {
   "cell_type": "code",
   "execution_count": null,
   "metadata": {},
   "outputs": [],
   "source": []
  }
 ],
 "metadata": {
  "kernelspec": {
   "display_name": "Python 3",
   "language": "python",
   "name": "python3"
  },
  "language_info": {
   "codemirror_mode": {
    "name": "ipython",
    "version": 3
   },
   "file_extension": ".py",
   "mimetype": "text/x-python",
   "name": "python",
   "nbconvert_exporter": "python",
   "pygments_lexer": "ipython3",
   "version": "3.5.2"
  }
 },
 "nbformat": 4,
 "nbformat_minor": 2
}
