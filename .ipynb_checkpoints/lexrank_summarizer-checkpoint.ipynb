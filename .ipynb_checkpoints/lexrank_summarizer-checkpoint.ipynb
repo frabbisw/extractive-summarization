{
 "cells": [
  {
   "cell_type": "code",
   "execution_count": 25,
   "metadata": {
    "collapsed": true
   },
   "outputs": [],
   "source": [
    "import import_ipynb\n",
    "from news_classes import *\n",
    "import math\n",
    "from textblob import TextBlob as tb\n",
    "import os\n",
    "import pickle\n",
    "from collections import Counter\n",
    "from textblob import TextBlob as tb\n",
    "import numpy as np"
   ]
  },
  {
   "cell_type": "code",
   "execution_count": 28,
   "metadata": {
    "collapsed": true
   },
   "outputs": [],
   "source": [
    "class lexrank:\n",
    "    def __init__(self,threshold,tolerance):\n",
    "        self.idf_path=\"files/idf_today.pkl\"\n",
    "        self.tolerance=tolerance\n",
    "        self.threshold=threshold\n",
    "        with open(self.idf_path, 'rb') as input:\n",
    "            self.idfblob = pickle.load(input)\n",
    "        \n",
    "    def load_idf(self):\n",
    "        with open(self.idf_path, 'rb') as input:\n",
    "            self.idfblob = pickle.load(input)\n",
    "            \n",
    "    def get_idf(self,word):\n",
    "        return math.log(self.idfblob.size() / (1 + self.idfblob.getIdf(word)))\n",
    "    \n",
    "    def cosine_distance(self, sentence1, sentence2):\n",
    "        count_sent1=Counter(sentence1.words)\n",
    "        count_sent2=Counter(sentence2.words)\n",
    "\n",
    "        up=0\n",
    "        downright=0\n",
    "        downleft=0\n",
    "\n",
    "        words=set()\n",
    "        for word in count_sent1.keys():\n",
    "            words.add(word)\n",
    "        for word in count_sent2.keys():\n",
    "            words.add(word)\n",
    "\n",
    "        for word in words:\n",
    "            cnt1=count_sent1.get(word)\n",
    "            cnt2=count_sent2.get(word)\n",
    "            if cnt1 is None:\n",
    "                cnt1=0            \n",
    "            elif cnt2 is None:\n",
    "                cnt2=0\n",
    "\n",
    "            up+=cnt1*cnt2*self.get_idf(word)*self.get_idf(word)\n",
    "            downright+=cnt1*self.get_idf(word)*cnt1*self.get_idf(word)\n",
    "            downleft+=cnt2*self.get_idf(word)*cnt2*self.get_idf(word)\n",
    "\n",
    "        try:\n",
    "            return up/(math.sqrt(downleft)*math.sqrt(downright))\n",
    "        except:\n",
    "            return 0\n",
    "    \n",
    "    def cosine_matrix(self,sentences):\n",
    "        w,h=len(sentences), len(sentences)\n",
    "        dist_matrix = np.zeros(shape=(w,h))\n",
    "        for i in range(w):\n",
    "            for j in range(h):\n",
    "                dist = self.cosine_distance(sentences[i],sentences[j])\n",
    "                if dist>=self.threshold:\n",
    "                    dist=1\n",
    "                else:\n",
    "                    dist=0\n",
    "                dist_matrix[i][j]=dist\n",
    "                dist_matrix[j][i]=dist\n",
    "\n",
    "        for i in range(w):\n",
    "            dist_matrix[i]=dist_matrix[i]/sum(dist_matrix[i])\n",
    "            \n",
    "        return dist_matrix\n",
    "    \n",
    "    def power_method(self,cosine_matrix):\n",
    "        n=len(cosine_matrix)\n",
    "        eg_vec=np.zeros(shape=(n))\n",
    "        eg_vec=(eg_vec+1)/n\n",
    "        \n",
    "        for itr in range(100):\n",
    "            new_vec=np.matmul(eg_vec,cosine_matrix)\n",
    "            update=sum(np.absolute(new_vec-eg_vec))\n",
    "            eg_vec=new_vec\n",
    "            \n",
    "            if update<self.tolerance:\n",
    "                break\n",
    "            \n",
    "        return eg_vec\n",
    "    \n",
    "    def rank_sentences(self, sentences, number_of_summarized_sentences):\n",
    "        lower_sentences=[]\n",
    "        for sentence in sentences:\n",
    "            lower_sentences.append(sentence.lower())\n",
    "        matrix = self.cosine_matrix(lower_sentences)\n",
    "\n",
    "        eigen_vector = self.power_method(matrix)\n",
    "        eigen_vector[0]=1\n",
    "        indices=np.arange(len(eigen_vector))\n",
    "                \n",
    "        sentences = [x for _, x in sorted(zip(eigen_vector,sentences), reverse=True)]\n",
    "        indices = [x for _, x in sorted(zip(eigen_vector,indices), reverse=True)]\n",
    "        \n",
    "        new_sentences = []\n",
    "        new_indices = []\n",
    "\n",
    "        for i in range(number_of_summarized_sentences):\n",
    "            new_sentences.append(sentences[i])\n",
    "            new_indices.append(indices[i])\n",
    "\n",
    "        new_sentences = [x for _, x in sorted(zip(new_indices,new_sentences))]\n",
    "        return new_sentences\n",
    "    \n",
    "    def summarize(self, para, number_of_summarized_sentences=5):\n",
    "        sentences = tb(para).sentences\n",
    "        \n",
    "        '''\n",
    "        sent2 = []\n",
    "        for i in range(min(len(sentences),50)):\n",
    "            sent2.append(sentences[i])\n",
    "        '''\n",
    "        \n",
    "        number_of_summarized_sentences = min(number_of_summarized_sentences, len(sentences))\n",
    "\n",
    "        sentences=self.rank_sentences(sentences, number_of_summarized_sentences)\n",
    "\n",
    "        summ=\"\"\n",
    "        for sentence in sentences:\n",
    "            summ+=str(sentence)+\" \"\n",
    "\n",
    "        return summ"
   ]
  },
  {
   "cell_type": "code",
   "execution_count": 29,
   "metadata": {},
   "outputs": [
    {
     "data": {
      "text/plain": [
       "\"Trump was born and raised in the New York City borough of Queens. He received an economics degree from the Wharton School of the University of Pennsylvania and was appointed president of his family's real estate business in 1971, renamed it The Trump Organization, and expanded it from Queens and Brooklyn into Manhattan. The company built or renovated skyscrapers, hotels, casinos, and golf courses. \""
      ]
     },
     "execution_count": 29,
     "metadata": {},
     "output_type": "execute_result"
    }
   ],
   "source": [
    "lx = lexrank(.1,.001)\n",
    "lx.load_idf()\n",
    "\n",
    "para=\"Trump was born and raised in the New York City borough of Queens. He received an economics degree from the Wharton School of the University of Pennsylvania and was appointed president of his family's real estate business in 1971, renamed it The Trump Organization, and expanded it from Queens and Brooklyn into Manhattan. The company built or renovated skyscrapers, hotels, casinos, and golf courses. Trump later started various side ventures, including licensing his name for real estate and consumer products. He managed the company until his 2017 inauguration. He co-authored several books, including The Art of the Deal. He owned the Miss Universe and Miss USA beauty pageants from 1996 to 2015, and he produced and hosted the reality television show, The Apprentice, from 2003 to 2015. Forbes estimates his net worth to be $3.1 billion.\"\n",
    "\n",
    "lx.summarize(para)"
   ]
  },
  {
   "cell_type": "code",
   "execution_count": null,
   "metadata": {
    "collapsed": true
   },
   "outputs": [],
   "source": []
  }
 ],
 "metadata": {
  "kernelspec": {
   "display_name": "Python 3",
   "language": "python",
   "name": "python3"
  },
  "language_info": {
   "codemirror_mode": {
    "name": "ipython",
    "version": 3
   },
   "file_extension": ".py",
   "mimetype": "text/x-python",
   "name": "python",
   "nbconvert_exporter": "python",
   "pygments_lexer": "ipython3",
   "version": "3.6.3"
  }
 },
 "nbformat": 4,
 "nbformat_minor": 2
}
