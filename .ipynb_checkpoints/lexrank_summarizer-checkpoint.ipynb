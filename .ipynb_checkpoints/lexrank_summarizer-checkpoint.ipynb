{
 "cells": [
  {
   "cell_type": "code",
   "execution_count": 30,
   "metadata": {},
   "outputs": [],
   "source": [
    "import import_ipynb\n",
    "from news_classes import *\n",
    "import math\n",
    "from textblob import TextBlob as tb\n",
    "import os\n",
    "import pickle\n",
    "from collections import Counter\n",
    "from textblob import TextBlob as tb\n",
    "import numpy as np"
   ]
  },
  {
   "cell_type": "code",
   "execution_count": 160,
   "metadata": {},
   "outputs": [],
   "source": [
    "class lexrank:\n",
    "    def __init__(self,threshold,tolerance):\n",
    "        self.idf_path='idf_path.pkl'\n",
    "        self.tolerance=tolerance\n",
    "        self.threshold=threshold\n",
    "        \n",
    "    def load_idf(self):\n",
    "        with open(idf_path, 'rb') as input:\n",
    "            self.idfblob = pickle.load(input)\n",
    "            \n",
    "    def get_idf(self,word):\n",
    "        return math.log(self.idfblob.size() / (1 + self.idfblob.getIdf(word)))\n",
    "    \n",
    "    def cosine_distance(self, sentence1, sentence2):\n",
    "        count_sent1=Counter(sentence1.words)\n",
    "        count_sent2=Counter(sentence2.words)\n",
    "\n",
    "        up=0\n",
    "        downright=0\n",
    "        downleft=0\n",
    "\n",
    "        words=set()\n",
    "        for word in count_sent1.keys():\n",
    "            words.add(word)\n",
    "        for word in count_sent2.keys():\n",
    "            words.add(word)\n",
    "\n",
    "        for word in words:\n",
    "            cnt1=count_sent1.get(word)\n",
    "            cnt2=count_sent2.get(word)\n",
    "            if cnt1 is None:\n",
    "                cnt1=0            \n",
    "            elif cnt2 is None:\n",
    "                cnt2=0\n",
    "\n",
    "            up+=cnt1*cnt2*self.get_idf(word)*self.get_idf(word)\n",
    "            downright+=cnt1*self.get_idf(word)*cnt1*self.get_idf(word)\n",
    "            downleft+=cnt2*self.get_idf(word)*cnt2*self.get_idf(word)\n",
    "\n",
    "        try:\n",
    "            return up/(math.sqrt(downleft)*math.sqrt(downright))\n",
    "        except:\n",
    "            return 0\n",
    "    \n",
    "    def cosine_matrix(self,sentences):\n",
    "        w,h=len(sentences), len(sentences)\n",
    "        dist_matrix = np.zeros(shape=(w,h))\n",
    "        for i in range(w):\n",
    "            for j in range(h):\n",
    "                dist = self.cosine_distance(sentences[i],sentences[j])\n",
    "                if dist>=self.threshold:\n",
    "                    dist=1\n",
    "                else:\n",
    "                    dist=0\n",
    "                dist_matrix[i][j]=dist\n",
    "                dist_matrix[j][i]=dist\n",
    "\n",
    "        for i in range(w):\n",
    "            dist_matrix[i]=dist_matrix[i]/sum(dist_matrix[i])\n",
    "            \n",
    "        return dist_matrix\n",
    "    \n",
    "    def power_method(self,cosine_matrix):\n",
    "        n=len(cosine_matrix)\n",
    "        eg_vec=np.zeros(shape=(n))\n",
    "        eg_vec=(eg_vec+1)/n\n",
    "        \n",
    "        while True:\n",
    "            new_vec=np.matmul(eg_vec,cosine_matrix)\n",
    "            update=sum(np.absolute(new_vec-eg_vec))\n",
    "            eg_vec=new_vec\n",
    "            \n",
    "            if update<self.tolerance:\n",
    "                break\n",
    "            \n",
    "        return eg_vec\n",
    "    \n",
    "    "
   ]
  },
  {
   "cell_type": "code",
   "execution_count": 162,
   "metadata": {},
   "outputs": [
    {
     "name": "stdout",
     "output_type": "stream",
     "text": [
      "0.19880952380952377\n",
      "0.0408248299319727\n",
      "0.01654491955512366\n",
      "0.012713142720240045\n",
      "0.008656856914892347\n",
      "0.006179059462448164\n",
      "0.00436208885082412\n",
      "0.003087349093607389\n",
      "0.0021838015589810827\n",
      "0.0015449090348856193\n",
      "0.0010928936812334283\n",
      "0.0007731369073480931\n",
      "[0.08508642 0.19769732 0.11270465 0.08508642 0.11270465 0.14086027\n",
      " 0.14086027 0.125     ]\n"
     ]
    }
   ],
   "source": [
    "lx = lexrank(.1,.001)\n",
    "lx.load_idf()\n",
    "para=\"Trump was born and raised in the New York City borough of Queens. He received an economics degree from the Wharton School of the University of Pennsylvania and was appointed president of his family's real estate business in 1971, renamed it The Trump Organization, and expanded it from Queens and Brooklyn into Manhattan. The company built or renovated skyscrapers, hotels, casinos, and golf courses. Trump later started various side ventures, including licensing his name for real estate and consumer products. He managed the company until his 2017 inauguration. He co-authored several books, including The Art of the Deal. He owned the Miss Universe and Miss USA beauty pageants from 1996 to 2015, and he produced and hosted the reality television show, The Apprentice, from 2003 to 2015. Forbes estimates his net worth to be $3.1 billion.\"\n",
    "sents=tb(para).sentences\n",
    "mat=lx.cosine_matrix(sents)\n",
    "vec=lx.power_method(mat)\n",
    "\n",
    "print(vec)"
   ]
  },
  {
   "cell_type": "code",
   "execution_count": 4,
   "metadata": {},
   "outputs": [],
   "source": [
    "idf_path='idf_path.pkl'\n",
    "with open(idf_path, 'rb') as input:\n",
    "    idfblob = pickle.load(input)"
   ]
  },
  {
   "cell_type": "code",
   "execution_count": 5,
   "metadata": {},
   "outputs": [],
   "source": [
    "def idf(word):\n",
    "    return math.log(idfblob.size() / (1 + idfblob.getIdf(word)))"
   ]
  },
  {
   "cell_type": "code",
   "execution_count": 6,
   "metadata": {},
   "outputs": [],
   "source": [
    "def sent_cosine(sentence1, sentence2):\n",
    "    count_sent1=Counter(sentence1.words)\n",
    "    count_sent2=Counter(sentence2.words)\n",
    "    \n",
    "    up=0\n",
    "    downright=0\n",
    "    downleft=0\n",
    "    \n",
    "    words=set()\n",
    "    for word in count_sent1.keys():\n",
    "        words.add(word)\n",
    "    for word in count_sent2.keys():\n",
    "        words.add(word)\n",
    "    \n",
    "    for word in words:\n",
    "        cnt1=count_sent1.get(word)\n",
    "        cnt2=count_sent2.get(word)\n",
    "        if cnt1 is None:\n",
    "            cnt1=0            \n",
    "        elif cnt2 is None:\n",
    "            cnt2=0\n",
    "                \n",
    "        up+=cnt1*cnt2*idf(word)*idf(word)\n",
    "        downright+=cnt1*idf(word)*cnt1*idf(word)\n",
    "        downleft+=cnt2*idf(word)*cnt2*idf(word)\n",
    "        \n",
    "    try:\n",
    "        return up/(math.sqrt(downleft)*math.sqrt(downright))\n",
    "    except:\n",
    "        return 0"
   ]
  },
  {
   "cell_type": "code",
   "execution_count": 7,
   "metadata": {},
   "outputs": [],
   "source": [
    "#w,h=len(sentences), len(sentences)\n",
    "def sent_to_matrix(sentences):\n",
    "    w,h=len(sentences), len(sentences)\n",
    "    dist_matrix = np.zeros(shape=(w,h))\n",
    "    for i in range(w):\n",
    "        for j in range(h):\n",
    "            dist = sent_cosine(sentences[i],sentences[j])\n",
    "            dist_matrix[i][j]=dist\n",
    "            dist_matrix[j][i]=dist\n",
    "    return dist_matrix"
   ]
  },
  {
   "cell_type": "code",
   "execution_count": 165,
   "metadata": {},
   "outputs": [],
   "source": [
    "def get_top_ranked_sentences(sentences, threshold, number_of_summarized_sentences):\n",
    "    lower_sentences=[]\n",
    "    for sentence in sentences:\n",
    "        lower_sentences.append(sentence.lower())\n",
    "    matrix = sent_to_matrix(lower_sentences)\n",
    "    \n",
    "    degrees=np.zeros(shape=(len(matrix)))\n",
    "    for j in range(len(matrix)):\n",
    "        degrees[j]=sum(i > threshold for i in matrix[j])\n",
    "    \n",
    "    indices=[]\n",
    "    for i in range(len(degrees)):\n",
    "        indices.append(i)\n",
    "        \n",
    "    sentences = [x for _, x in sorted(zip(degrees,sentences), reverse=True)]\n",
    "    indices = [x for _, x in sorted(zip(degrees,indices))]\n",
    "    \n",
    "    new_sentences = []\n",
    "    new_indices = []\n",
    "    \n",
    "    for i in range(number_of_summarized_sentences):\n",
    "        new_sentences.append(sentences[i])\n",
    "        new_indices.append(indices[i])\n",
    "    \n",
    "    new_sentences = [x for _, x in sorted(zip(new_indices,new_sentences))]\n",
    "    return new_sentences"
   ]
  },
  {
   "cell_type": "code",
   "execution_count": 166,
   "metadata": {},
   "outputs": [],
   "source": [
    "def summarize(para, number_of_summarized_sentences):\n",
    "    sentences = tb(para).sentences\n",
    "    number_of_summarized_sentences = min(number_of_summarized_sentences, len(sentences))\n",
    "\n",
    "    sentences=get_top_ranked_sentences(sentences, .03, number_of_summarized_sentences)\n",
    "    \n",
    "    summ=\"\"\n",
    "    for sentence in sentences:\n",
    "        summ+=str(sentence)\n",
    "        \n",
    "    return summ"
   ]
  },
  {
   "cell_type": "code",
   "execution_count": 167,
   "metadata": {},
   "outputs": [],
   "source": [
    "para=\"Trump was born and raised in the New York City borough of Queens. He received an economics degree from the Wharton School of the University of Pennsylvania and was appointed president of his family's real estate business in 1971, renamed it The Trump Organization, and expanded it from Queens and Brooklyn into Manhattan. The company built or renovated skyscrapers, hotels, casinos, and golf courses. Trump later started various side ventures, including licensing his name for real estate and consumer products. He managed the company until his 2017 inauguration. He co-authored several books, including The Art of the Deal. He owned the Miss Universe and Miss USA beauty pageants from 1996 to 2015, and he produced and hosted the reality television show, The Apprentice, from 2003 to 2015. Forbes estimates his net worth to be $3.1 billion.\""
   ]
  },
  {
   "cell_type": "code",
   "execution_count": 169,
   "metadata": {},
   "outputs": [
    {
     "data": {
      "text/plain": [
       "'Trump was born and raised in the New York City borough of Queens.'"
      ]
     },
     "execution_count": 169,
     "metadata": {},
     "output_type": "execute_result"
    }
   ],
   "source": [
    "summarize(para, 2)"
   ]
  },
  {
   "cell_type": "code",
   "execution_count": null,
   "metadata": {},
   "outputs": [],
   "source": []
  }
 ],
 "metadata": {
  "kernelspec": {
   "display_name": "Python 3",
   "language": "python",
   "name": "python3"
  },
  "language_info": {
   "codemirror_mode": {
    "name": "ipython",
    "version": 3
   },
   "file_extension": ".py",
   "mimetype": "text/x-python",
   "name": "python",
   "nbconvert_exporter": "python",
   "pygments_lexer": "ipython3",
   "version": "3.6.7"
  }
 },
 "nbformat": 4,
 "nbformat_minor": 2
}
