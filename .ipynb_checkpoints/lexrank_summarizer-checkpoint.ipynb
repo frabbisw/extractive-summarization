{
 "cells": [
  {
   "cell_type": "code",
   "execution_count": 2,
   "metadata": {},
   "outputs": [
    {
     "name": "stdout",
     "output_type": "stream",
     "text": [
      "importing Jupyter notebook from news_classes.ipynb\n"
     ]
    }
   ],
   "source": [
    "import import_ipynb\n",
    "from news_classes import *\n",
    "import math\n",
    "from textblob import TextBlob as tb\n",
    "import os\n",
    "import pickle\n",
    "from collections import Counter\n",
    "from textblob import TextBlob as tb"
   ]
  },
  {
   "cell_type": "code",
   "execution_count": 3,
   "metadata": {},
   "outputs": [],
   "source": [
    "idf_path='idf_30_9_2018.pkl'\n",
    "with open(idf_path, 'rb') as input:\n",
    "    idfblob = pickle.load(input)"
   ]
  },
  {
   "cell_type": "code",
   "execution_count": 4,
   "metadata": {},
   "outputs": [],
   "source": [
    "def idf(word):\n",
    "    return math.log(idfblob.size() / (1 + idfblob.getIdf(word)))"
   ]
  },
  {
   "cell_type": "code",
   "execution_count": 144,
   "metadata": {},
   "outputs": [],
   "source": [
    "def sent_cosine(sentence1, sentence2):\n",
    "    count_sent1=Counter(sentence1.words)\n",
    "    count_sent2=Counter(sentence2.words)\n",
    "    \n",
    "    up=0\n",
    "    downright=0\n",
    "    downleft=0\n",
    "    \n",
    "    words=set()\n",
    "    for word in count_sent1.keys():\n",
    "        words.add(word)\n",
    "    for word in count_sent2.keys():\n",
    "        words.add(word)\n",
    "    \n",
    "    for word in words:\n",
    "        cnt1=count_sent1.get(word)\n",
    "        cnt2=count_sent2.get(word)\n",
    "        if cnt1 is None:\n",
    "            cnt1=0            \n",
    "        elif cnt2 is None:\n",
    "            cnt2=0\n",
    "                \n",
    "        up+=cnt1*cnt2*idf(word)*idf(word)\n",
    "        downright+=cnt1*idf(word)*cnt1*idf(word)\n",
    "        downleft+=cnt2*idf(word)*cnt2*idf(word)\n",
    "        \n",
    "    try:\n",
    "        return up/(math.sqrt(downleft)*math.sqrt(downright))\n",
    "    except:\n",
    "        return 0"
   ]
  },
  {
   "cell_type": "code",
   "execution_count": 158,
   "metadata": {},
   "outputs": [],
   "source": [
    "blob=tb(\"The BNP chief challenged the legality of a trial court decision to continue the proceedings in her absence, and prayed to issue a rule on Anti-Corruption Commission (ACC) and the government to explain why the lower court's decision should not be scrapped. Trial cannot continue if the accused is sick, her lawyer Barrister Kaiser Kamal said, adding, that setting up a court in old Dhaka jail is unlawful and unconstitutional. Meanwhile, a Dhaka court yesterday fixed October 24 for framing charges against Khaleda in cases filed for undermining the national flag and observing “fake birthday” on August 15. \")"
   ]
  },
  {
   "cell_type": "code",
   "execution_count": 159,
   "metadata": {},
   "outputs": [
    {
     "name": "stdout",
     "output_type": "stream",
     "text": [
      "0.0 0.0 2.370509804558544\n",
      "0.0 0.0 66.03489289066168\n",
      "0.0 0.0 66.13068383384787\n",
      "0.0 1.1604873068475838 66.13068383384787\n",
      "0.0 28.943360831269857 66.13068383384787\n",
      "0.0 43.536626360561456 66.13068383384787\n",
      "0.0 44.73906778141544 66.13068383384787\n",
      "0.0 57.9536810171101 66.13068383384787\n",
      "0.0 58.880028248441555 66.13068383384787\n",
      "0.0 58.880028248441555 72.47811489875586\n",
      "0.17014577989693308 58.92256469341579 73.1586980183436\n",
      "0.17014577989693308 58.92256469341579 73.21284531115501\n",
      "0.17014577989693308 122.58694777951892 73.21284531115501\n",
      "0.17014577989693308 122.58694777951892 136.87722839725814\n",
      "0.17014577989693308 122.58694777951892 141.7781621621894\n",
      "0.17014577989693308 122.58694777951892 178.17629152184793\n",
      "0.17014577989693308 146.0464609042817 178.17629152184793\n",
      "0.17014577989693308 172.52554386316305 178.17629152184793\n",
      "0.17014577989693308 172.92785157764885 178.17629152184793\n",
      "0.17014577989693308 172.92785157764885 241.84067460795106\n",
      "0.17014577989693308 172.92785157764885 242.216668653884\n",
      "0.17014577989693308 172.92785157764885 258.7569410089682\n",
      "0.27564598626953246 172.98060168083515 258.9679414217134\n",
      "0.27564598626953246 174.6114226385224 258.9679414217134\n",
      "0.27564598626953246 184.29261792061254 258.9679414217134\n",
      "0.4007865727780232 184.3551882138668 259.2182225947304\n",
      "0.4007865727780232 184.3551882138668 259.9017009784934\n",
      "0.4007865727780232 191.67760696199244 259.9017009784934\n",
      "0.46053627713914796 191.73735666635358 259.96145068285455\n",
      "3.443384738168253 194.72020512738268 262.94429914388365\n",
      "3.443384738168253 208.74440523777596 262.94429914388365\n",
      "3.443384738168253 208.74440523777596 297.7490463263172\n",
      "3.443384738168253 208.74440523777596 341.2127661154709\n",
      "10.576176385371793 215.8771968849795 348.34555776267445\n",
      "10.576176385371793 215.8771968849795 412.0099408487776\n",
      "10.576176385371793 215.8771968849795 423.1295345007542\n",
      "10.576176385371793 215.8771968849795 433.15823284215344\n",
      "10.576176385371793 215.8771968849795 449.07843119013825\n",
      "10.576176385371793 279.5415799710826 449.07843119013825\n",
      "10.576176385371793 279.5415799710826 452.3981785423591\n",
      "10.576176385371793 343.2059630571858 452.3981785423591\n",
      "10.576176385371793 343.2059630571858 475.0569261546764\n",
      "10.576176385371793 343.2059630571858 480.5023792985991\n",
      "25.97731187551289 350.9065308022563 511.3046502788813\n",
      "25.97731187551289 350.9065308022563 511.79378885027586\n",
      "25.97731187551289 358.11946988320847 511.79378885027586\n",
      "25.97731187551289 358.11946988320847 575.458171936379\n",
      "25.97731187551289 358.11946988320847 605.4283080795681\n",
      "25.97731187551289 358.373140392127 605.4283080795681\n",
      "25.97731187551289 422.0375234782302 605.4283080795681\n",
      "25.97731187551289 485.70190656433334 605.4283080795681\n",
      "25.97731187551289 485.70190656433334 625.7978281320705\n",
      "26.569682409717153 486.29427709853763 626.3901986662748\n",
      "26.569682409717153 486.29427709853763 649.8497117910376\n"
     ]
    },
    {
     "data": {
      "text/plain": [
       "0.04726398312965018"
      ]
     },
     "execution_count": 159,
     "metadata": {},
     "output_type": "execute_result"
    }
   ],
   "source": [
    "sent_cosine(blob.sentences[0], blob.sentences[1])"
   ]
  },
  {
   "cell_type": "code",
   "execution_count": null,
   "metadata": {},
   "outputs": [],
   "source": []
  }
 ],
 "metadata": {
  "kernelspec": {
   "display_name": "Python 3",
   "language": "python",
   "name": "python3"
  },
  "language_info": {
   "codemirror_mode": {
    "name": "ipython",
    "version": 3
   },
   "file_extension": ".py",
   "mimetype": "text/x-python",
   "name": "python",
   "nbconvert_exporter": "python",
   "pygments_lexer": "ipython3",
   "version": "3.5.2"
  }
 },
 "nbformat": 4,
 "nbformat_minor": 2
}
