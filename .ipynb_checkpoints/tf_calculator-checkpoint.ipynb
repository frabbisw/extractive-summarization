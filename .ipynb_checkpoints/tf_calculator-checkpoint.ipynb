{
 "cells": [
  {
   "cell_type": "code",
   "execution_count": 15,
   "metadata": {
    "collapsed": true
   },
   "outputs": [],
   "source": [
    "import math\n",
    "from textblob import TextBlob as tb\n",
    "from collections import Counter"
   ]
  },
  {
   "cell_type": "code",
   "execution_count": 24,
   "metadata": {
    "collapsed": true
   },
   "outputs": [],
   "source": [
    "class TFCalculator:\n",
    "    def __init__(self, sentences):\n",
    "        all_words=[]\n",
    "        for sentence in sentences:\n",
    "            all_words+=sentence.words\n",
    "        self.word_counts=Counter(all_words)\n",
    "    def get_words(self):\n",
    "        return self.word_counts"
   ]
  },
  {
   "cell_type": "code",
   "execution_count": 25,
   "metadata": {
    "collapsed": true
   },
   "outputs": [],
   "source": [
    "blob=tb(\"The BNP chief challenged the legality of a trial court decision to continue the proceedings in her absence, and prayed to issue a rule on Anti-Corruption Commission (ACC) and the government to explain why the lower court's decision should not be scrapped. Trial cannot continue if the accused is sick, her lawyer Barrister Kaiser Kamal said, adding, that setting up a court in old Dhaka jail is unlawful and unconstitutional. Meanwhile, a Dhaka court yesterday fixed October 24 for framing charges against Khaleda in cases filed for undermining the national flag and observing “fake birthday” on August 15. Additional Chief Metropolitan Magistrate Asaduzzaman Nur set the date. \")"
   ]
  },
  {
   "cell_type": "code",
   "execution_count": 26,
   "metadata": {
    "collapsed": true
   },
   "outputs": [],
   "source": [
    "cal = TFCalculator(blob.sentences)"
   ]
  },
  {
   "cell_type": "code",
   "execution_count": 27,
   "metadata": {},
   "outputs": [
    {
     "data": {
      "text/plain": [
       "Counter({\"'s\": 1,\n",
       "         '15': 1,\n",
       "         '24': 1,\n",
       "         'ACC': 1,\n",
       "         'Additional': 1,\n",
       "         'Anti-Corruption': 1,\n",
       "         'Asaduzzaman': 1,\n",
       "         'August': 1,\n",
       "         'BNP': 1,\n",
       "         'Barrister': 1,\n",
       "         'Chief': 1,\n",
       "         'Commission': 1,\n",
       "         'Dhaka': 2,\n",
       "         'Kaiser': 1,\n",
       "         'Kamal': 1,\n",
       "         'Khaleda': 1,\n",
       "         'Magistrate': 1,\n",
       "         'Meanwhile': 1,\n",
       "         'Metropolitan': 1,\n",
       "         'Nur': 1,\n",
       "         'October': 1,\n",
       "         'The': 1,\n",
       "         'Trial': 1,\n",
       "         'a': 4,\n",
       "         'absence': 1,\n",
       "         'accused': 1,\n",
       "         'adding': 1,\n",
       "         'against': 1,\n",
       "         'and': 4,\n",
       "         'be': 1,\n",
       "         'birthday': 1,\n",
       "         'can': 1,\n",
       "         'cases': 1,\n",
       "         'challenged': 1,\n",
       "         'charges': 1,\n",
       "         'chief': 1,\n",
       "         'continue': 2,\n",
       "         'court': 4,\n",
       "         'date': 1,\n",
       "         'decision': 2,\n",
       "         'explain': 1,\n",
       "         'fake': 1,\n",
       "         'filed': 1,\n",
       "         'fixed': 1,\n",
       "         'flag': 1,\n",
       "         'for': 2,\n",
       "         'framing': 1,\n",
       "         'government': 1,\n",
       "         'her': 2,\n",
       "         'if': 1,\n",
       "         'in': 3,\n",
       "         'is': 2,\n",
       "         'issue': 1,\n",
       "         'jail': 1,\n",
       "         'lawyer': 1,\n",
       "         'legality': 1,\n",
       "         'lower': 1,\n",
       "         'national': 1,\n",
       "         'not': 2,\n",
       "         'observing': 1,\n",
       "         'of': 1,\n",
       "         'old': 1,\n",
       "         'on': 2,\n",
       "         'prayed': 1,\n",
       "         'proceedings': 1,\n",
       "         'rule': 1,\n",
       "         'said': 1,\n",
       "         'scrapped': 1,\n",
       "         'set': 1,\n",
       "         'setting': 1,\n",
       "         'should': 1,\n",
       "         'sick': 1,\n",
       "         'that': 1,\n",
       "         'the': 7,\n",
       "         'to': 3,\n",
       "         'trial': 1,\n",
       "         'unconstitutional': 1,\n",
       "         'undermining': 1,\n",
       "         'unlawful': 1,\n",
       "         'up': 1,\n",
       "         'why': 1,\n",
       "         'yesterday': 1,\n",
       "         '“': 1,\n",
       "         '”': 1})"
      ]
     },
     "execution_count": 27,
     "metadata": {},
     "output_type": "execute_result"
    }
   ],
   "source": [
    "cal.get_words()"
   ]
  },
  {
   "cell_type": "code",
   "execution_count": null,
   "metadata": {
    "collapsed": true
   },
   "outputs": [],
   "source": []
  }
 ],
 "metadata": {
  "kernelspec": {
   "display_name": "Python 3",
   "language": "python",
   "name": "python3"
  },
  "language_info": {
   "codemirror_mode": {
    "name": "ipython",
    "version": 3
   },
   "file_extension": ".py",
   "mimetype": "text/x-python",
   "name": "python",
   "nbconvert_exporter": "python",
   "pygments_lexer": "ipython3",
   "version": "3.6.3"
  }
 },
 "nbformat": 4,
 "nbformat_minor": 2
}
