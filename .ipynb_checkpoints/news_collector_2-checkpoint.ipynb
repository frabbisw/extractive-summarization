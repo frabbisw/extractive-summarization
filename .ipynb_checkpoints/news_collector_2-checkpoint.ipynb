{
 "cells": [
  {
   "cell_type": "code",
   "execution_count": 3,
   "metadata": {},
   "outputs": [],
   "source": [
    "import newspaper\n",
    "import os\n",
    "import random\n",
    "import pickle\n",
    "import import_ipynb\n",
    "from news_classes import *"
   ]
  },
  {
   "cell_type": "code",
   "execution_count": null,
   "metadata": {
    "collapsed": true
   },
   "outputs": [],
   "source": [
    "url=\"https://bdnews24.com/\"\n",
    "paper_today = newspaper.build(url,  memoize_articles=False)\n",
    "\n",
    "cwd=os.getcwd()+'/'\n",
    "paper_path='bdnews_news_25_18.pkl'"
   ]
  },
  {
   "cell_type": "code",
   "execution_count": null,
   "metadata": {},
   "outputs": [
    {
     "name": "stdout",
     "output_type": "stream",
     "text": [
      "You must `download()` an article first!\n",
      "Downloading... 31.18%\r"
     ]
    }
   ],
   "source": [
    "myPaper = customizedPaper()\n",
    "\n",
    "cnt = 0 \n",
    "for article in paper_today.articles: \n",
    "    try:\n",
    "        article.download() \n",
    "        article.parse() \n",
    "\n",
    "        temp_article=paragraph(article.title, article.url, article.text, article.publish_date) \n",
    "        myPaper.addParagraph(temp_article)\n",
    "\n",
    "        downloaded=round(100*cnt/len(paper_today.articles), 2)\n",
    "        \n",
    "        cnt+=1\n",
    "        print(\"Downloading... \"+str(downloaded)+\"%\", end=\"\\r\")\n",
    "    except:\n",
    "        None"
   ]
  },
  {
   "cell_type": "markdown",
   "metadata": {},
   "source": [
    "cnt = 0\n",
    "for article in palo.articles:\n",
    "    try:\n",
    "        article.download()\n",
    "        article.parse()\n",
    "        temp_article=paragraph(article.title, article.url, article.text)\n",
    "        myPaper.addParagraph(temp_article)\n",
    "        \n",
    "        #cnt+=1\n",
    "        #print(str(100*cnt/len(paper_today.articles))+\"%\")\n",
    "    except:\n",
    "        print(\"\")"
   ]
  },
  {
   "cell_type": "code",
   "execution_count": null,
   "metadata": {
    "collapsed": true
   },
   "outputs": [],
   "source": [
    "with open(paper_path, 'wb') as output:\n",
    "    pickle.dump(myPaper, output, pickle.HIGHEST_PROTOCOL)"
   ]
  },
  {
   "cell_type": "code",
   "execution_count": null,
   "metadata": {
    "collapsed": true
   },
   "outputs": [],
   "source": [
    "with open(paper_path, 'rb') as input:\n",
    "    tnews = pickle.load(input)"
   ]
  },
  {
   "cell_type": "code",
   "execution_count": null,
   "metadata": {
    "collapsed": true
   },
   "outputs": [],
   "source": [
    "cnt=0\n",
    "for mmm in tnews.paragraphs:\n",
    "    if mmm is not None:\n",
    "        print(mmm.title)\n",
    "        cnt=cnt+1\n",
    "print(cnt)"
   ]
  },
  {
   "cell_type": "code",
   "execution_count": null,
   "metadata": {
    "collapsed": true
   },
   "outputs": [],
   "source": []
  }
 ],
 "metadata": {
  "kernelspec": {
   "display_name": "Python 3",
   "language": "python",
   "name": "python3"
  },
  "language_info": {
   "codemirror_mode": {
    "name": "ipython",
    "version": 3
   },
   "file_extension": ".py",
   "mimetype": "text/x-python",
   "name": "python",
   "nbconvert_exporter": "python",
   "pygments_lexer": "ipython3",
   "version": "3.6.3"
  }
 },
 "nbformat": 4,
 "nbformat_minor": 2
}
