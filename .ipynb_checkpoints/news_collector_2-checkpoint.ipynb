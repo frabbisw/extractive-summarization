{
 "cells": [
  {
   "cell_type": "code",
   "execution_count": 1,
   "metadata": {},
   "outputs": [
    {
     "name": "stdout",
     "output_type": "stream",
     "text": [
      "importing Jupyter notebook from news_classes.ipynb\n"
     ]
    },
    {
     "name": "stderr",
     "output_type": "stream",
     "text": [
      "/home/rabbi/.local/lib/python3.5/site-packages/requests/__init__.py:83: RequestsDependencyWarning: Old version of cryptography ([1, 2, 3]) may cause slowdown.\n",
      "  warnings.warn(warning, RequestsDependencyWarning)\n"
     ]
    }
   ],
   "source": [
    "import newspaper\n",
    "import os\n",
    "import random\n",
    "import pickle\n",
    "from datetime import datetime\n",
    "import import_ipynb\n",
    "from news_classes import *"
   ]
  },
  {
   "cell_type": "code",
   "execution_count": 2,
   "metadata": {},
   "outputs": [
    {
     "name": "stdout",
     "output_type": "stream",
     "text": [
      "building...http://english.kalerkantho.com/               \r"
     ]
    }
   ],
   "source": [
    "urls=[]\n",
    "urls.append(\"https://www.thedailystar.net/\")\n",
    "urls.append(\"http://www.observerbd.com/\")\n",
    "urls.append(\"https://bdnews24.com/\")\n",
    "urls.append(\"https://en.prothomalo.com/\")\n",
    "urls.append(\"https://www.clickittefaq.com/\")\n",
    "urls.append(\"http://english.kalerkantho.com/\")\n",
    "\n",
    "papers_today = []\n",
    "for url in urls:\n",
    "    papers_today.append(newspaper.build(url,  memoize_articles=False))\n",
    "    print(\"building...\"+url+\"               \", end=\"\\r\")\n",
    "\n",
    "cwd=os.getcwd()+'/'\n",
    "now = datetime.now()\n",
    "paper_path = \"news_\"+str(now.day)+\"_\"+str(now.month)+\"_\"+str(now.year)+\".pkl\""
   ]
  },
  {
   "cell_type": "code",
   "execution_count": 3,
   "metadata": {
    "collapsed": true
   },
   "outputs": [],
   "source": [
    "myPaper = customizedPaper()"
   ]
  },
  {
   "cell_type": "code",
   "execution_count": null,
   "metadata": {},
   "outputs": [
    {
     "name": "stdout",
     "output_type": "stream",
     "text": [
      "You must `download()` an article first!\n",
      "You must `download()` an article first!\n",
      "You must `download()` an article first!\n",
      "Article `download()` failed with 404 Client Error: Not Found for url: https://www.thedailystar.net/shift/news/nissan-navara-dark-sky-concept-1638868 on URL https://www.thedailystar.net/shift/news/nissan-navara-dark-sky-concept-1638868\n",
      "You must `download()` an article first!\n",
      "You must `download()` an article first!\n",
      "Article `download()` failed with 404 Client Error: Not Found for url: https://www.thedailystar.net/shift/news/greatest-automotive-designers-1638871 on URL https://www.thedailystar.net/shift/news/greatest-automotive-designers-1638871\n",
      "You must `download()` an article first!\n",
      "You must `download()` an article first!\n",
      "You must `download()` an article first!\n"
     ]
    }
   ],
   "source": [
    "cnt = 0 \n",
    "for paper in papers_today:\n",
    "    for article in paper.articles: \n",
    "        try:\n",
    "            article.download() \n",
    "            article.parse() \n",
    "\n",
    "            temp_article=paragraph(article.title, article.url, article.text, article.publish_date, paper.brand) \n",
    "            myPaper.addParagraph(temp_article)\n",
    "\n",
    "            cnt+=1\n",
    "            downloaded=round(100*cnt/len(paper_today.articles), 2)\n",
    "\n",
    "            print(article.title)\n",
    "            \n",
    "            print(\"Downloading... \"+str(downloaded)+\"%   \", end=\"\\r\")\n",
    "        except:\n",
    "            None"
   ]
  },
  {
   "cell_type": "code",
   "execution_count": null,
   "metadata": {
    "collapsed": true
   },
   "outputs": [],
   "source": [
    "with open(paper_path, 'wb') as output:\n",
    "    pickle.dump(myPaper, output, pickle.HIGHEST_PROTOCOL)"
   ]
  },
  {
   "cell_type": "code",
   "execution_count": null,
   "metadata": {
    "collapsed": true
   },
   "outputs": [],
   "source": [
    "with open(paper_path, 'rb') as input:\n",
    "    tnews = pickle.load(input)"
   ]
  },
  {
   "cell_type": "code",
   "execution_count": null,
   "metadata": {
    "collapsed": true
   },
   "outputs": [],
   "source": [
    "cnt=0\n",
    "for mmm in tnews.paragraphs:\n",
    "    if mmm is not None:\n",
    "        cnt=cnt+1\n",
    "print(cnt)"
   ]
  }
 ],
 "metadata": {
  "kernelspec": {
   "display_name": "Python 3",
   "language": "python",
   "name": "python3"
  },
  "language_info": {
   "codemirror_mode": {
    "name": "ipython",
    "version": 3
   },
   "file_extension": ".py",
   "mimetype": "text/x-python",
   "name": "python",
   "nbconvert_exporter": "python",
   "pygments_lexer": "ipython3",
   "version": "3.6.3"
  }
 },
 "nbformat": 4,
 "nbformat_minor": 2
}
