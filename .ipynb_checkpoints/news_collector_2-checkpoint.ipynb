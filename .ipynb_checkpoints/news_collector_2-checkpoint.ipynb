{
 "cells": [
  {
   "cell_type": "code",
   "execution_count": 1,
   "metadata": {
    "collapsed": true
   },
   "outputs": [],
   "source": [
    "import newspaper\n",
    "import os\n",
    "import random\n",
    "import pickle\n",
    "\n",
    "url=\"http://en.prothomalo.com\"\n",
    "paper_today = newspaper.build(url,  memoize_articles=False)\n",
    "\n",
    "cwd=os.getcwd()+'/'\n",
    "paper_path='palo_news_8_18.pkl'"
   ]
  },
  {
   "cell_type": "code",
   "execution_count": 2,
   "metadata": {
    "collapsed": true
   },
   "outputs": [],
   "source": [
    "class paragraph:    \n",
    "    def __init__(self, title, url, text):\n",
    "        self.title=title\n",
    "        self.url=url\n",
    "        self.body=text"
   ]
  },
  {
   "cell_type": "code",
   "execution_count": 3,
   "metadata": {
    "collapsed": true
   },
   "outputs": [],
   "source": [
    "class customizedPaper:\n",
    "    def __init__(self):\n",
    "        self.paragraphs=[]\n",
    "    def addParagraph(self, para):\n",
    "        self.paragraphs.append(para)"
   ]
  },
  {
   "cell_type": "code",
   "execution_count": null,
   "metadata": {},
   "outputs": [
    {
     "name": "stdout",
     "output_type": "stream",
     "text": [
      "0.15220700152207%\n",
      "0.30441400304414%\n",
      "0.45662100456621%\n",
      "0.60882800608828%\n",
      "0.76103500761035%\n",
      "0.91324200913242%\n",
      "1.06544901065449%\n",
      "1.21765601217656%\n",
      "1.36986301369863%\n",
      "1.5220700152207%\n",
      "1.67427701674277%\n",
      "1.82648401826484%\n",
      "1.97869101978691%\n",
      "2.13089802130898%\n",
      "2.2831050228310503%\n",
      "2.43531202435312%\n",
      "2.5875190258751903%\n",
      "2.73972602739726%\n",
      "2.8919330289193304%\n",
      "3.0441400304414%\n",
      "3.1963470319634704%\n",
      "3.34855403348554%\n",
      "3.5007610350076104%\n",
      "3.65296803652968%\n",
      "3.8051750380517504%\n",
      "3.95738203957382%\n",
      "4.109589041095891%\n",
      "4.26179604261796%\n",
      "4.41400304414003%\n",
      "4.566210045662101%\n",
      "4.718417047184171%\n",
      "4.87062404870624%\n",
      "5.0228310502283104%\n",
      "5.175038051750381%\n",
      "5.327245053272451%\n",
      "5.47945205479452%\n",
      "5.6316590563165905%\n",
      "5.783866057838661%\n",
      "5.936073059360731%\n",
      "6.0882800608828%\n",
      "6.2404870624048705%\n",
      "6.392694063926941%\n",
      "6.544901065449011%\n",
      "6.69710806697108%\n",
      "6.8493150684931505%\n",
      "7.001522070015221%\n",
      "7.153729071537291%\n",
      "7.30593607305936%\n",
      "7.4581430745814306%\n",
      "7.610350076103501%\n",
      "7.762557077625571%\n",
      "7.91476407914764%\n",
      "8.066971080669711%\n",
      "8.219178082191782%\n",
      "8.37138508371385%\n",
      "8.52359208523592%\n",
      "8.67579908675799%\n",
      "8.82800608828006%\n",
      "8.980213089802131%\n",
      "9.132420091324201%\n",
      "9.284627092846272%\n"
     ]
    }
   ],
   "source": [
    "myPaper = customizedPaper()\n",
    "\n",
    "cnt = 0 \n",
    "for article in paper_today.articles: \n",
    "    try:\n",
    "        article.download() \n",
    "        article.parse() \n",
    "\n",
    "        temp_article=paragraph(article.title, article.url, article.text) \n",
    "        myPaper.addParagraph(temp_article)\n",
    "\n",
    "        cnt+=1\n",
    "        print(str(100*cnt/len(paper_today.articles))+\"%\")\n",
    "    except:\n",
    "        print(\"error in \"+str(cnt))"
   ]
  },
  {
   "cell_type": "markdown",
   "metadata": {},
   "source": [
    "cnt = 0\n",
    "for article in palo.articles:\n",
    "    try:\n",
    "        article.download()\n",
    "        article.parse()\n",
    "        temp_article=paragraph(article.title, article.url, article.text)\n",
    "        myPaper.addParagraph(temp_article)\n",
    "        \n",
    "        #cnt+=1\n",
    "        #print(str(100*cnt/len(paper_today.articles))+\"%\")\n",
    "    except:\n",
    "        print(\"\")"
   ]
  },
  {
   "cell_type": "code",
   "execution_count": null,
   "metadata": {
    "collapsed": true
   },
   "outputs": [],
   "source": [
    "with open(paper_path, 'wb') as output:\n",
    "    pickle.dump(myPaper, output, pickle.HIGHEST_PROTOCOL)"
   ]
  },
  {
   "cell_type": "code",
   "execution_count": null,
   "metadata": {
    "collapsed": true
   },
   "outputs": [],
   "source": [
    "with open(paper_path, 'rb') as input:\n",
    "    tnews = pickle.load(input)"
   ]
  },
  {
   "cell_type": "code",
   "execution_count": null,
   "metadata": {},
   "outputs": [],
   "source": [
    "cnt=0\n",
    "for mmm in tnews.paragraphs:\n",
    "    if mmm is not None:\n",
    "        print(mmm.title)\n",
    "        cnt=cnt+1\n",
    "print(cnt)"
   ]
  },
  {
   "cell_type": "code",
   "execution_count": null,
   "metadata": {
    "collapsed": true
   },
   "outputs": [],
   "source": []
  }
 ],
 "metadata": {
  "kernelspec": {
   "display_name": "Python 3",
   "language": "python",
   "name": "python3"
  },
  "language_info": {
   "codemirror_mode": {
    "name": "ipython",
    "version": 3
   },
   "file_extension": ".py",
   "mimetype": "text/x-python",
   "name": "python",
   "nbconvert_exporter": "python",
   "pygments_lexer": "ipython3",
   "version": "3.6.3"
  }
 },
 "nbformat": 4,
 "nbformat_minor": 2
}
