{
 "cells": [
  {
   "cell_type": "code",
   "execution_count": 9,
   "metadata": {},
   "outputs": [],
   "source": [
    "import math\n",
    "from textblob import TextBlob as tb\n",
    "import newspaper\n",
    "import os\n",
    "import random\n",
    "import pickle\n",
    "import import_ipynb\n",
    "from cluster_based_summarizer import summarize\n",
    "from news_classes import customizedPaper\n",
    "from news_classes import paragraph"
   ]
  },
  {
   "cell_type": "code",
   "execution_count": 10,
   "metadata": {
    "collapsed": true
   },
   "outputs": [],
   "source": [
    "from werkzeug.wrappers import Request, Response\n",
    "from flask import Flask\n",
    "from flask import render_template\n",
    "from flask import request"
   ]
  },
  {
   "cell_type": "code",
   "execution_count": 11,
   "metadata": {
    "collapsed": true
   },
   "outputs": [],
   "source": [
    "cwd=os.getcwd()+'/'\n",
    "news_path='bdnews_news_25_18.pkl'\n",
    "\n",
    "with open(news_path, 'rb') as input:\n",
    "    allnews = pickle.load(input)"
   ]
  },
  {
   "cell_type": "code",
   "execution_count": 12,
   "metadata": {
    "collapsed": true
   },
   "outputs": [],
   "source": [
    "def getNewsFromKey(searched_word):\n",
    "    \n",
    "    short_news=[]\n",
    "    for paragraph in allnews.paragraphs:\n",
    "        if searched_word.lower() in paragraph.title.lower():\n",
    "            obj={'title':paragraph.title, 'url':paragraph.url, 'text':summarize(paragraph.body), 'date':paragraph.date}\n",
    "            short_news.append(obj)    \n",
    "    return short_news"
   ]
  },
  {
   "cell_type": "code",
   "execution_count": 13,
   "metadata": {
    "collapsed": true
   },
   "outputs": [],
   "source": [
    "app = Flask(__name__)"
   ]
  },
  {
   "cell_type": "code",
   "execution_count": 14,
   "metadata": {
    "collapsed": true
   },
   "outputs": [],
   "source": [
    "@app.route('/show_result', methods=['POST'])\n",
    "def show_result():\n",
    "    searched_word = request.form['news_keyword']\n",
    "    rendered = render_template('show_news.html', news_list=getNewsFromKey(searched_word))\n",
    "    \n",
    "    return rendered"
   ]
  },
  {
   "cell_type": "code",
   "execution_count": null,
   "metadata": {
    "collapsed": true
   },
   "outputs": [],
   "source": [
    "@app.route(\"/\")\n",
    "def search_key():\n",
    "    rendered = render_template('ani_search.html')\n",
    "    #rendered=\"hello there!\"\n",
    "    return rendered"
   ]
  },
  {
   "cell_type": "code",
   "execution_count": null,
   "metadata": {},
   "outputs": [
    {
     "name": "stderr",
     "output_type": "stream",
     "text": [
      " * Running on http://0.0.0.0:9002/ (Press CTRL+C to quit)\n",
      "127.0.0.1 - - [25/Sep/2018 15:35:33] \"\u001b[37mGET / HTTP/1.1\u001b[0m\" 200 -\n",
      "127.0.0.1 - - [25/Sep/2018 15:35:33] \"\u001b[33mGET /favicon.ico HTTP/1.1\u001b[0m\" 404 -\n",
      "127.0.0.1 - - [25/Sep/2018 15:35:37] \"\u001b[37mPOST /show_result HTTP/1.1\u001b[0m\" 200 -\n",
      "127.0.0.1 - - [25/Sep/2018 15:41:26] \"\u001b[37mGET / HTTP/1.1\u001b[0m\" 200 -\n",
      "127.0.0.1 - - [25/Sep/2018 15:41:44] \"\u001b[37mGET / HTTP/1.1\u001b[0m\" 200 -\n",
      "127.0.0.1 - - [25/Sep/2018 15:41:50] \"\u001b[37mGET / HTTP/1.1\u001b[0m\" 200 -\n"
     ]
    }
   ],
   "source": [
    "if __name__ == '__main__':\n",
    "    from werkzeug.serving import run_simple\n",
    "    run_simple('0.0.0.0', 9002, app)"
   ]
  },
  {
   "cell_type": "code",
   "execution_count": null,
   "metadata": {
    "collapsed": true
   },
   "outputs": [],
   "source": []
  },
  {
   "cell_type": "code",
   "execution_count": null,
   "metadata": {
    "collapsed": true
   },
   "outputs": [],
   "source": []
  }
 ],
 "metadata": {
  "kernelspec": {
   "display_name": "Python 3",
   "language": "python",
   "name": "python3"
  },
  "language_info": {
   "codemirror_mode": {
    "name": "ipython",
    "version": 3
   },
   "file_extension": ".py",
   "mimetype": "text/x-python",
   "name": "python",
   "nbconvert_exporter": "python",
   "pygments_lexer": "ipython3",
   "version": "3.6.3"
  }
 },
 "nbformat": 4,
 "nbformat_minor": 2
}
