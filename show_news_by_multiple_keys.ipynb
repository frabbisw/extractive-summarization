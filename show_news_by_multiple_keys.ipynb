{
 "cells": [
  {
   "cell_type": "code",
   "execution_count": 1,
   "metadata": {},
   "outputs": [],
   "source": [
    "import math\n",
    "from textblob import TextBlob as tb\n",
    "import newspaper\n",
    "import os\n",
    "import random\n",
    "import pickle\n",
    "from datetime import datetime\n",
    "from tqdm import tqdm as tq"
   ]
  },
  {
   "cell_type": "code",
   "execution_count": 2,
   "metadata": {},
   "outputs": [
    {
     "name": "stdout",
     "output_type": "stream",
     "text": [
      "importing Jupyter notebook from prepare.ipynb\n",
      "importing Jupyter notebook from news_classes.ipynb\n",
      "importing Jupyter notebook from lexrank_summarizer.ipynb\n",
      "[1.         0.16068673 0.125      0.10715664 0.125      0.125\n",
      " 0.125      0.125     ]\n",
      "F\n"
     ]
    }
   ],
   "source": [
    "import import_ipynb\n",
    "from prepare import collector\n",
    "from lexrank_summarizer import lexrank\n",
    "from news_classes import customizedPaper\n",
    "from news_classes import paragraph"
   ]
  },
  {
   "cell_type": "code",
   "execution_count": 3,
   "metadata": {},
   "outputs": [],
   "source": [
    "from werkzeug.wrappers import Request, Response\n",
    "from flask import Flask\n",
    "from flask import render_template\n",
    "from flask import request"
   ]
  },
  {
   "cell_type": "code",
   "execution_count": 4,
   "metadata": {},
   "outputs": [],
   "source": [
    "import _thread\n",
    "import time"
   ]
  },
  {
   "cell_type": "markdown",
   "metadata": {},
   "source": [
    "from werkzeug.wrappers import Request, Response\n",
    "from flask import Flask\n",
    "from flask import render_template\n",
    "from flask import request"
   ]
  },
  {
   "cell_type": "code",
   "execution_count": 5,
   "metadata": {},
   "outputs": [],
   "source": [
    "cwd=os.getcwd()+'/'\n",
    "news_path='news_today.pkl'\n",
    "summarizer=lexrank(.1,.0001)"
   ]
  },
  {
   "cell_type": "code",
   "execution_count": 6,
   "metadata": {},
   "outputs": [],
   "source": [
    "with open(news_path, 'rb') as input:\n",
    "    allnews = pickle.load(input)"
   ]
  },
  {
   "cell_type": "code",
   "execution_count": 7,
   "metadata": {},
   "outputs": [],
   "source": [
    "def worker():\n",
    "    while True:\n",
    "        collector.prepare_news()\n",
    "        print(\"News Collected\")\n",
    "        collector.prepare_idf()\n",
    "        print(\"Idf Stored\")\n",
    "        with open(news_path, 'rb') as input:\n",
    "            allnews = pickle.load(input)"
   ]
  },
  {
   "cell_type": "code",
   "execution_count": 8,
   "metadata": {},
   "outputs": [
    {
     "data": {
      "text/plain": [
       "'\\ntry:\\n   _thread.start_new_thread(worker,())\\nexcept:\\n   print (\"Error: unable to start thread\")\\n'"
      ]
     },
     "execution_count": 8,
     "metadata": {},
     "output_type": "execute_result"
    }
   ],
   "source": [
    "'''\n",
    "try:\n",
    "   _thread.start_new_thread(worker,())\n",
    "except:\n",
    "   print (\"Error: unable to start thread\")\n",
    "'''"
   ]
  },
  {
   "cell_type": "code",
   "execution_count": 9,
   "metadata": {},
   "outputs": [],
   "source": [
    "def getSummarizedFromList(para_list):\n",
    "    summ_list=[]\n",
    "    for paragraph in para_list:\n",
    "        obj={'title':paragraph.title, 'url':paragraph.url, 'text':summarizer.summarize(paragraph.body), 'date':paragraph.date, 'brand':paragraph.brand}\n",
    "        summ_list.append(obj)    \n",
    "        \n",
    "    return summ_list"
   ]
  },
  {
   "cell_type": "code",
   "execution_count": 10,
   "metadata": {},
   "outputs": [],
   "source": [
    "def getMultiDocSummaryFromList(para_list):\n",
    "    blob_news=\"\"\n",
    "    for paragraph in para_list:\n",
    "        blob_news+=paragraph.body\n",
    "    \n",
    "    return summarize(blob_news, 5)"
   ]
  },
  {
   "cell_type": "code",
   "execution_count": 11,
   "metadata": {},
   "outputs": [],
   "source": [
    "def searchNews(searched_key, min_count):\n",
    "    key_words=searched_key.split()\n",
    " \n",
    "    para_list=[]\n",
    "    \n",
    "    for paragraph in allnews.paragraphs:\n",
    "        word_matched=0\n",
    "        letter_matched=0\n",
    "        for word in key_words:\n",
    "            word=word.lower()\n",
    "            if paragraph.title is not None and paragraph.body is not None:\n",
    "                if word in paragraph.title.lower().split():\n",
    "                    word_matched+=1\n",
    "                    letter_matched+=len(word)\n",
    "        if word_matched>=min_count and paragraph.date is not None:\n",
    "            paragraph.setCounts(word_matched)\n",
    "            paragraph.setLetterMatched(letter_matched)\n",
    "            para_list.append(paragraph)\n",
    "    return para_list"
   ]
  },
  {
   "cell_type": "code",
   "execution_count": 12,
   "metadata": {},
   "outputs": [],
   "source": [
    "def sortNews(para_list):\n",
    "    para_list.sort(key=lambda item:(item.cnt, item.ltr, item.date.year, item.date.month, item.date.day), reverse=True)\n",
    "    \n",
    "    return para_list"
   ]
  },
  {
   "cell_type": "code",
   "execution_count": 13,
   "metadata": {},
   "outputs": [],
   "source": [
    "list_of_news=[]\n",
    "searched_word=\"\"\n",
    "selected_item=\"\"\n",
    "total_page=0\n",
    "content_per_page=5"
   ]
  },
  {
   "cell_type": "code",
   "execution_count": 14,
   "metadata": {},
   "outputs": [],
   "source": [
    "app = Flask(__name__)"
   ]
  },
  {
   "cell_type": "code",
   "execution_count": 15,
   "metadata": {},
   "outputs": [],
   "source": [
    "def singleNewsFromKey(searched_key):\n",
    "    para_list = searchNews(searched_key, 1)\n",
    "    para_list = sortNews(para_list)\n",
    "\n",
    "    return para_list"
   ]
  },
  {
   "cell_type": "code",
   "execution_count": 16,
   "metadata": {},
   "outputs": [],
   "source": [
    "def multiNewsFromKey(searched_key):\n",
    "    para_list = searchNews(searched_key, len(searched_key.split()))\n",
    "    para_list = sortNews(para_list)\n",
    "\n",
    "    return para_list"
   ]
  },
  {
   "cell_type": "code",
   "execution_count": 17,
   "metadata": {},
   "outputs": [],
   "source": [
    "@app.route('/show_result', methods=['GET', 'POST'])\n",
    "def show_result():\n",
    "    global searched_word\n",
    "    searched_word = request.form['news_keyword']\n",
    "    global selected_item\n",
    "    selected_item = request.form.get('item')\n",
    "    \n",
    "    global list_of_news\n",
    "    \n",
    "    \n",
    "    if selected_item == \"single\":\n",
    "        list_of_news=singleNewsFromKey(searched_word)\n",
    "\n",
    "        global total_page\n",
    "        total_page=math.ceil(len(list_of_news)/content_per_page)\n",
    "\n",
    "        list_ten=[]\n",
    "        for i in range(min(len(list_of_news), content_per_page)):\n",
    "            list_ten.append(list_of_news[i])\n",
    "            \n",
    "        rendered = render_template('ani_show_news.html', news_list=getSummarizedFromList(list_ten), number_of_pages=total_page, keyword=searched_word)\n",
    "    else:\n",
    "        list_of_news=multiNewsFromKey(searched_word)\n",
    "\n",
    "        list_ten=[]\n",
    "        for i in range(min(len(list_of_news), content_per_page)):\n",
    "            list_ten.append(list_of_news[i])\n",
    "            \n",
    "        rendered = render_template('ani_show_multi_news.html', multi_news=getMultiDocSummaryFromList(list_ten))\n",
    "    \n",
    "    return rendered"
   ]
  },
  {
   "cell_type": "code",
   "execution_count": 18,
   "metadata": {},
   "outputs": [],
   "source": [
    "@app.route('/show_other_page', methods=['POST'])\n",
    "def show_other_page():\n",
    "    page_number = int(request.form['page_number'])\n",
    "        \n",
    "    list_ten=[]\n",
    "    for i in range(page_number*content_per_page, min(len(list_of_news), (page_number+1)*content_per_page)):\n",
    "        list_ten.append(list_of_news[i])\n",
    "    \n",
    "    rendered = render_template('ani_show_news.html', news_list=getSummarizedFromList(list_ten), number_of_pages=total_page, keyword=searched_word)\n",
    "\n",
    "    return rendered"
   ]
  },
  {
   "cell_type": "code",
   "execution_count": 19,
   "metadata": {},
   "outputs": [],
   "source": [
    "@app.route(\"/\")\n",
    "def search_key():\n",
    "    rendered = render_template('ani_search.html')\n",
    "    return rendered"
   ]
  },
  {
   "cell_type": "code",
   "execution_count": 20,
   "metadata": {},
   "outputs": [
    {
     "name": "stderr",
     "output_type": "stream",
     "text": [
      " * Running on http://0.0.0.0:9001/ (Press CTRL+C to quit)\n",
      "127.0.0.1 - - [14/Dec/2018 18:47:49] \"GET / HTTP/1.1\" 200 -\n",
      "127.0.0.1 - - [14/Dec/2018 18:47:52] \"POST /show_result HTTP/1.1\" 200 -\n"
     ]
    },
    {
     "name": "stdout",
     "output_type": "stream",
     "text": [
      "[1.         0.10714056 0.125      0.125      0.10714056 0.125\n",
      " 0.125      0.125     ]\n",
      "W\n",
      "[1.         0.1        0.1        0.0882524  0.1        0.08821698\n",
      " 0.1        0.11763911 0.1        0.0882524 ]\n",
      "W\n",
      "[1.         0.25       0.32142704 0.21428648]\n",
      "W\n",
      "[1.         0.06302137 0.06290875 0.07880005 0.03153223 0.07871809\n",
      " 0.06300698 0.09440649 0.07877476 0.04718107 0.07861718 0.06289158\n",
      " 0.09436162 0.09435127]\n",
      "\"\n",
      "[1.         0.13227879 0.11111111 0.11111111 0.11111111 0.10580578\n",
      " 0.10580578 0.13227879 0.11111111]\n",
      "W\n"
     ]
    }
   ],
   "source": [
    "if __name__ == '__main__':\n",
    "    from werkzeug.serving import run_simple\n",
    "    run_simple('0.0.0.0', 9001, app)"
   ]
  },
  {
   "cell_type": "code",
   "execution_count": null,
   "metadata": {},
   "outputs": [],
   "source": []
  },
  {
   "cell_type": "code",
   "execution_count": null,
   "metadata": {},
   "outputs": [],
   "source": []
  },
  {
   "cell_type": "code",
   "execution_count": null,
   "metadata": {},
   "outputs": [],
   "source": []
  }
 ],
 "metadata": {
  "kernelspec": {
   "display_name": "Python 3",
   "language": "python",
   "name": "python3"
  },
  "language_info": {
   "codemirror_mode": {
    "name": "ipython",
    "version": 3
   },
   "file_extension": ".py",
   "mimetype": "text/x-python",
   "name": "python",
   "nbconvert_exporter": "python",
   "pygments_lexer": "ipython3",
   "version": "3.6.7"
  }
 },
 "nbformat": 4,
 "nbformat_minor": 2
}
