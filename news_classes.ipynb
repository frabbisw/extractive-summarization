{
 "cells": [
  {
   "cell_type": "code",
   "execution_count": 1,
   "metadata": {
    "collapsed": true
   },
   "outputs": [],
   "source": [
    "class paragraph:    \n",
    "    def __init__(self, title, url, text, date, brand):\n",
    "        self.title=title\n",
    "        self.url=url\n",
    "        self.body=text\n",
    "        self.date=date\n",
    "        self.brand=brand\n",
    "    def setCounts(self, cnt):\n",
    "        self.cnt=cnt"
   ]
  },
  {
   "cell_type": "code",
   "execution_count": 2,
   "metadata": {
    "collapsed": true
   },
   "outputs": [],
   "source": [
    "class customizedPaper:\n",
    "    def __init__(self):\n",
    "        self.paragraphs=[]\n",
    "    def addParagraph(self, para):\n",
    "        self.paragraphs.append(para)"
   ]
  },
  {
   "cell_type": "code",
   "execution_count": 1,
   "metadata": {
    "collapsed": true
   },
   "outputs": [],
   "source": [
    "class idfBlob:\n",
    "    def __init__(self, idf_count, length):\n",
    "        self.idf_count=idf_count\n",
    "        self.length=length\n",
    "    def size(self):\n",
    "        return self.length\n",
    "    def getIdf(self, word):\n",
    "        if word in self.idf_count.keys():\n",
    "            return self.idf_count[word]\n",
    "        else:\n",
    "            return 0"
   ]
  }
 ],
 "metadata": {
  "kernelspec": {
   "display_name": "Python 3",
   "language": "python",
   "name": "python3"
  },
  "language_info": {
   "codemirror_mode": {
    "name": "ipython",
    "version": 3
   },
   "file_extension": ".py",
   "mimetype": "text/x-python",
   "name": "python",
   "nbconvert_exporter": "python",
   "pygments_lexer": "ipython3",
   "version": "3.6.3"
  }
 },
 "nbformat": 4,
 "nbformat_minor": 2
}
